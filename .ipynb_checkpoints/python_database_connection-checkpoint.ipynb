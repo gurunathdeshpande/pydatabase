{
 "cells": [
  {
   "cell_type": "markdown",
   "id": "b2a18e2e",
   "metadata": {},
   "source": [
    "#                                CONNECT PYTHON WITH DATABASE"
   ]
  },
  {
   "cell_type": "markdown",
   "id": "241e4da6",
   "metadata": {},
   "source": [
    "# IMPORT MYSQL CONNECTOR"
   ]
  },
  {
   "cell_type": "code",
   "execution_count": 1,
   "id": "f2b186d8",
   "metadata": {},
   "outputs": [],
   "source": [
    "import mysql.connector as con"
   ]
  },
  {
   "cell_type": "markdown",
   "id": "16bff620",
   "metadata": {},
   "source": [
    "# CONNECTION TO DATABASE"
   ]
  },
  {
   "cell_type": "code",
   "execution_count": 4,
   "id": "ee764f11",
   "metadata": {},
   "outputs": [
    {
     "name": "stdout",
     "output_type": "stream",
     "text": [
      "<mysql.connector.connection_cext.CMySQLConnection object at 0x0000029ABC9990A0>\n"
     ]
    }
   ],
   "source": [
    "import mysql.connector as con\n",
    "new_db=con.connect(\n",
    "    host=\"localhost\",\n",
    "    user=\"root\",\n",
    "    password=\"root\"\n",
    ")\n",
    "print(new_db)"
   ]
  },
  {
   "cell_type": "markdown",
   "id": "78a4b1f7",
   "metadata": {},
   "source": [
    "# CREATE A DATABASE"
   ]
  },
  {
   "cell_type": "code",
   "execution_count": null,
   "id": "ce560458",
   "metadata": {},
   "outputs": [],
   "source": [
    "import mysql.connector as con\n",
    "new_db=con.connect(\n",
    "    host=\"localhost\",\n",
    "    user=\"root\",\n",
    "    password=\"root\"\n",
    ")\n",
    "my_cursor=new_db.cursor()\n",
    "my_cursor.execute(\"CREATE DATABASE college13\")"
   ]
  },
  {
   "cell_type": "markdown",
   "id": "2b4955b3",
   "metadata": {},
   "source": [
    "# CHECK DATABASE CREATED?"
   ]
  },
  {
   "cell_type": "code",
   "execution_count": 2,
   "id": "dbeeb038",
   "metadata": {},
   "outputs": [
    {
     "name": "stdout",
     "output_type": "stream",
     "text": [
      "('bank',)\n",
      "('college',)\n",
      "('college13',)\n",
      "('information_schema',)\n",
      "('mysql',)\n",
      "('performance_schema',)\n",
      "('sakila',)\n",
      "('sys',)\n",
      "('world',)\n"
     ]
    }
   ],
   "source": [
    "import mysql.connector as con\n",
    "new_db=con.connect(\n",
    "    host=\"localhost\",\n",
    "    user=\"root\",\n",
    "    password=\"root\"\n",
    ")\n",
    "my_cursor=new_db.cursor()\n",
    "my_cursor.execute(\"SHOW DATABASES\")\n",
    "for n in my_cursor:\n",
    "    print(n)"
   ]
  },
  {
   "cell_type": "markdown",
   "id": "d15e10ed",
   "metadata": {},
   "source": [
    "# USING DATABASES CREATE TABLES"
   ]
  },
  {
   "cell_type": "code",
   "execution_count": 6,
   "id": "739ae2be",
   "metadata": {},
   "outputs": [],
   "source": [
    "import mysql.connector as con\n",
    "new_db=con.connect(\n",
    "    host=\"localhost\",\n",
    "    user=\"root\",\n",
    "    password=\"root\",\n",
    "    database=\"college13\"\n",
    ")\n",
    "my_cursor=new_db.cursor()\n",
    "my_cursor.execute(\"CREATE TABLE student13(rollno int,name varchar(100))\")"
   ]
  },
  {
   "cell_type": "code",
   "execution_count": 8,
   "id": "1640949d",
   "metadata": {},
   "outputs": [],
   "source": [
    "import mysql.connector as con\n",
    "new_db=con.connect(\n",
    "    host=\"localhost\",\n",
    "    user=\"root\",\n",
    "    password=\"root\",\n",
    "    database=\"college13\"\n",
    ")\n",
    "my_cursor=new_db.cursor()\n",
    "my_cursor.execute(\"CREATE TABLE teacher13(tname varchar(100),tno int)\")"
   ]
  },
  {
   "cell_type": "markdown",
   "id": "b8b37452",
   "metadata": {},
   "source": [
    "# LIST ALL THE TABLES IN CREATED DATABASE"
   ]
  },
  {
   "cell_type": "code",
   "execution_count": 9,
   "id": "d3a55311",
   "metadata": {},
   "outputs": [
    {
     "name": "stdout",
     "output_type": "stream",
     "text": [
      "('student',)\n",
      "('student13',)\n",
      "('teacher13',)\n"
     ]
    }
   ],
   "source": [
    "import mysql.connector as con\n",
    "new_db=con.connect(\n",
    "    host=\"localhost\",\n",
    "    user=\"root\",\n",
    "    password=\"root\",\n",
    "    database=\"college13\"\n",
    ")\n",
    "my_cursor=new_db.cursor()\n",
    "my_cursor.execute(\"SHOW TABLES\")\n",
    "for table in my_cursor:\n",
    "    print(table)"
   ]
  },
  {
   "cell_type": "markdown",
   "id": "4f10d9cf",
   "metadata": {},
   "source": [
    "# INSERTING RECORS INTO THE TABLES"
   ]
  },
  {
   "cell_type": "code",
   "execution_count": 18,
   "id": "4187426f",
   "metadata": {},
   "outputs": [
    {
     "name": "stdout",
     "output_type": "stream",
     "text": [
      "Enter roll number : 3\n",
      "Enter name : sachin\n",
      "1 new record inserted\n"
     ]
    }
   ],
   "source": [
    "#using input() method\n",
    "\n",
    "query=\"INSERT INTO student13 (rollno, name) VALUES (%s, %s)\"\n",
    "a=int(input(\"Enter roll number : \"))\n",
    "b=input(\"Enter name : \")\n",
    "values=(a,\"b\")\n",
    "my_cursor.execute(query,values)\n",
    "new_db.commit()\n",
    "print(my_cursor.rowcount, \"new record inserted\")"
   ]
  },
  {
   "cell_type": "code",
   "execution_count": 19,
   "id": "21ccfdff",
   "metadata": {},
   "outputs": [
    {
     "name": "stdout",
     "output_type": "stream",
     "text": [
      "1 new record inserted\n"
     ]
    }
   ],
   "source": [
    "query=\"INSERT INTO student13 (rollno, name) VALUES (%s, %s)\"\n",
    "values=(\"4\",\"akshay\")\n",
    "my_cursor.execute(query,values)\n",
    "new_db.commit()\n",
    "print(my_cursor.rowcount, \"new record inserted\")"
   ]
  },
  {
   "cell_type": "markdown",
   "id": "4bfb080f",
   "metadata": {},
   "source": [
    "# INSERTING MULTIPLE RECORDS INTO TABLE"
   ]
  },
  {
   "cell_type": "code",
   "execution_count": 9,
   "id": "191e8574",
   "metadata": {},
   "outputs": [
    {
     "name": "stdout",
     "output_type": "stream",
     "text": [
      "2 new record inserted\n"
     ]
    }
   ],
   "source": [
    "query=\"INSERT INTO student13 (rollno, name) VALUES (%s, %s)\"\n",
    "values= [(\"5\",\"pradyumn\"),\n",
    "         (\"6\",\"darshan\")]\n",
    "my_cursor.executemany(query,values)\n",
    "new_db.commit()\n",
    "print(my_cursor.rowcount, \"new record inserted\")"
   ]
  },
  {
   "cell_type": "markdown",
   "id": "7633024a",
   "metadata": {},
   "source": [
    "# DISPLY THE RECORDS FROM TABLE"
   ]
  },
  {
   "cell_type": "code",
   "execution_count": 7,
   "id": "3a0e0c3e",
   "metadata": {},
   "outputs": [
    {
     "name": "stdout",
     "output_type": "stream",
     "text": [
      "(1, 'gurunath')\n",
      "(2, 'b')\n",
      "(3, 'b')\n",
      "(4, 'akshay')\n",
      "(5, 'pradyumn')\n",
      "(6, 'darshan')\n",
      "(7, 'arun')\n",
      "(8, 'praveen')\n"
     ]
    }
   ],
   "source": [
    "my_cursor=new_db.cursor()\n",
    "query2=\"SELECT * FROM student13\"\n",
    "my_cursor.execute(query2)\n",
    "for a in my_cursor:\n",
    "    print(a)"
   ]
  },
  {
   "cell_type": "markdown",
   "id": "10bb4619",
   "metadata": {},
   "source": [
    "# DISPLAY PERTICULAR RECORD FROM DATABASE"
   ]
  },
  {
   "cell_type": "code",
   "execution_count": 6,
   "id": "dc6cc458",
   "metadata": {},
   "outputs": [
    {
     "name": "stdout",
     "output_type": "stream",
     "text": [
      "('gurunath',)\n",
      "('b',)\n",
      "('b',)\n",
      "('akshay',)\n",
      "('pradyumn',)\n",
      "('darshan',)\n",
      "('arun',)\n",
      "('praveen',)\n"
     ]
    }
   ],
   "source": [
    "import mysql.connector as con\n",
    "new_db=con.connect(\n",
    "    host=\"localhost\",\n",
    "    user=\"root\",\n",
    "    password=\"root\",\n",
    "    database=\"college13\"\n",
    ")\n",
    "my_cursor=new_db.cursor()\n",
    "my_cursor=new_db.cursor()\n",
    "query2=\"SELECT name FROM student13\"\n",
    "my_cursor.execute(query2)\n",
    "for a in my_cursor:\n",
    "    print(a)"
   ]
  },
  {
   "cell_type": "code",
   "execution_count": null,
   "id": "620e4486",
   "metadata": {},
   "outputs": [],
   "source": []
  },
  {
   "cell_type": "code",
   "execution_count": null,
   "id": "a1d63960",
   "metadata": {},
   "outputs": [],
   "source": []
  }
 ],
 "metadata": {
  "kernelspec": {
   "display_name": "Python 3 (ipykernel)",
   "language": "python",
   "name": "python3"
  },
  "language_info": {
   "codemirror_mode": {
    "name": "ipython",
    "version": 3
   },
   "file_extension": ".py",
   "mimetype": "text/x-python",
   "name": "python",
   "nbconvert_exporter": "python",
   "pygments_lexer": "ipython3",
   "version": "3.9.12"
  }
 },
 "nbformat": 4,
 "nbformat_minor": 5
}
