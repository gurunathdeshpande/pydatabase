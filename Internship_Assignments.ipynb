{
 "cells": [
  {
   "cell_type": "markdown",
   "id": "3eafa9d2",
   "metadata": {},
   "source": [
    "**Assignment : 1**"
   ]
  },
  {
   "cell_type": "code",
   "execution_count": null,
   "id": "54248d81",
   "metadata": {},
   "outputs": [],
   "source": [
    "class Student:\n",
    "    def __init__(self,name,id1,cgpa):\n",
    "        self.name=name\n",
    "        self.id1=id1\n",
    "        self.cgpa=cgpa\n",
    "    def get_name(self):\n",
    "        print(\"name :\",self.name)\n",
    "    def get_id(self):\n",
    "        print(\"id :\",self.id1)\n",
    "    def get_cgpa(self):\n",
    "        print(\"cgpa :\",self.cgpa)\n",
    "\n",
    "a=input(\"Enter name :\")\n",
    "b=int(input(\"Enter id :\"))\n",
    "c=float(input(\"Enter cgpa :\"))\n",
    "obj = Student(a,b,c)\n",
    "obj.get_name()\n",
    "obj.get_id()\n",
    "obj.get_cgpa()\n",
    "d=input(\"Enter name :\")\n",
    "e=int(input(\"Enter id :\"))\n",
    "f=float(input(\"Enter cgpa :\"))\n",
    "obj1 = Student(d,e,f)\n",
    "obj1.get_name()\n",
    "obj1.get_id()\n",
    "obj1.get_cgpa()"
   ]
  },
  {
   "cell_type": "markdown",
   "id": "7633be7b",
   "metadata": {},
   "source": [
    "**Assignment : 2**"
   ]
  },
  {
   "cell_type": "code",
   "execution_count": null,
   "id": "eccf8c78",
   "metadata": {},
   "outputs": [],
   "source": [
    "from functools import reduce\n",
    "ele=int(input (\"How much element you want to enter : \"))\n",
    "lst=[]\n",
    "for i in range(ele):\n",
    "    a=int(input(f\"Enter element{i+1} :\"))\n",
    "    lst.append(a)\n",
    "print (\"original list : \",lst)\n",
    "b=list(map(lambda x : x**2 , lst))\n",
    "print (f\"square of elements : {b}\")\n",
    "c=list(filter(lambda x : x%3==0 , b))\n",
    "print (f\"numbers divisible by 3 : {c}\")\n",
    "d=reduce (lambda x,y : x*y , c)\n",
    "print (f\"product of elements divisible by 3 : {d}\")\n",
    "e=list(filter(lambda x : x%2==0,lst))\n",
    "print (f\"elements divisible by 2 : {e}\")\n",
    "f=list(map(lambda x : x**2 , e))\n",
    "print (f\"square of even elements : {f}\")\n",
    "g=list(filter(lambda x : x>=16 , f))\n",
    "print (f\"elements grater than 16 : {g}\")\n",
    "h=reduce(lambda x,y : x+y , g)\n",
    "print (f\"sum of elements grater than 16 : {h}\")"
   ]
  },
  {
   "cell_type": "markdown",
   "id": "ee6011e4",
   "metadata": {},
   "source": [
    "**Assignment : 3**"
   ]
  },
  {
   "cell_type": "code",
   "execution_count": null,
   "id": "6bb8ee0a",
   "metadata": {},
   "outputs": [],
   "source": [
    "import os\n",
    "\n",
    "# 1. Create a new directory called my_dir in the current working directory.\n",
    "os.mkdir(\"my_dir\")\n",
    "\n",
    "# 2. Create a new text file called my_file.txt in the my_dir directory and write the following lines to it.\n",
    "with open(\"my_dir/my_file.txt\", \"w\") as file:\n",
    "    file.write(\"Hello, World!\\n\")\n",
    "    file.write(\"This is my file.\\n\")\n",
    "    file.write(\"It contains some lines of text.\\n\")\n",
    "\n",
    "# 3. Use a with statement to open the my_file.txt file, read its contents, and print them to the console.\n",
    "with open(\"my_dir/my_file.txt\", \"r\") as file:\n",
    "    contents = file.read()\n",
    "    print(contents)\n",
    "\n",
    "# 4. Use the os module to change the permissions of the my_file.txt file so that it is readable only by the owner.\n",
    "os.chmod(\"my_dir/my_file.txt\", 0o600)\n",
    "\n",
    "# 5. Use a with statement to open the my_file.txt file again, read its contents, and print them to the console.\n",
    "with open(\"my_dir/my_file.txt\", \"r\") as file:\n",
    "    contents = file.read()\n",
    "    print(contents)\n",
    "\n",
    "# 6. Append the following line to the end of the my_file.txt file: I'm adding a new line to the file!\n",
    "with open(\"my_dir/my_file.txt\", \"a\") as file:\n",
    "    file.write(\"I'm adding a new line to the file!\\n\")\n",
    "\n",
    "# 7. Use a with statement to open the my_file.txt file again, read its contents, and print them to the console.\n",
    "with open(\"my_dir/my_file.txt\", \"r\") as file:\n",
    "    contents = file.read()\n",
    "    print(contents)"
   ]
  }
 ],
 "metadata": {
  "kernelspec": {
   "display_name": "Python 3 (ipykernel)",
   "language": "python",
   "name": "python3"
  },
  "language_info": {
   "codemirror_mode": {
    "name": "ipython",
    "version": 3
   },
   "file_extension": ".py",
   "mimetype": "text/x-python",
   "name": "python",
   "nbconvert_exporter": "python",
   "pygments_lexer": "ipython3",
   "version": "3.9.13"
  }
 },
 "nbformat": 4,
 "nbformat_minor": 5
}
