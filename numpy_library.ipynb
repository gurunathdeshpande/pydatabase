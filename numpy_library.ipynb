{
 "cells": [
  {
   "cell_type": "markdown",
   "id": "b7a5835a",
   "metadata": {},
   "source": [
    "# NUMPY LIBRARY"
   ]
  },
  {
   "cell_type": "code",
   "execution_count": 1,
   "id": "f19c5f88",
   "metadata": {},
   "outputs": [
    {
     "data": {
      "text/plain": [
       "'1.21.5'"
      ]
     },
     "execution_count": 1,
     "metadata": {},
     "output_type": "execute_result"
    }
   ],
   "source": [
    "import numpy as np\n",
    "np.__version__"
   ]
  },
  {
   "cell_type": "markdown",
   "id": "25774947",
   "metadata": {},
   "source": [
    "# CREATE A 1-D ARRAY USING array()"
   ]
  },
  {
   "cell_type": "code",
   "execution_count": 4,
   "id": "000a6336",
   "metadata": {},
   "outputs": [
    {
     "name": "stdout",
     "output_type": "stream",
     "text": [
      "[1 2 3]\n",
      "int32\n",
      "(3,)\n"
     ]
    }
   ],
   "source": [
    "import numpy as np\n",
    "a=np.array([1,2,3])\n",
    "print(a)\n",
    "print(a.dtype)\n",
    "print(a.shape)"
   ]
  },
  {
   "cell_type": "markdown",
   "id": "030376e6",
   "metadata": {},
   "source": [
    "# CREATE A 1-D ARRAY USING arange()"
   ]
  },
  {
   "cell_type": "code",
   "execution_count": 3,
   "id": "7149e140",
   "metadata": {},
   "outputs": [
    {
     "name": "stdout",
     "output_type": "stream",
     "text": [
      "[0 1 2]\n",
      "int32\n",
      "(3,)\n"
     ]
    }
   ],
   "source": [
    "import numpy as np\n",
    "a=np.arange(3)\n",
    "print(a)\n",
    "print(a.dtype)\n",
    "print(a.shape)"
   ]
  },
  {
   "cell_type": "markdown",
   "id": "73f2d435",
   "metadata": {},
   "source": [
    "# CREATE A 2-D ARRAY USING array()"
   ]
  },
  {
   "cell_type": "code",
   "execution_count": 5,
   "id": "8316afe0",
   "metadata": {},
   "outputs": [
    {
     "name": "stdout",
     "output_type": "stream",
     "text": [
      "[[1 2 3]\n",
      " [4 5 6]]\n",
      "int32\n",
      "(3,)\n"
     ]
    }
   ],
   "source": [
    "import numpy as np\n",
    "b=np.array(([1,2,3],[4,5,6]))\n",
    "print(b)\n",
    "print(a.dtype)\n",
    "print(a.shape)"
   ]
  },
  {
   "cell_type": "markdown",
   "id": "a6e19fd7",
   "metadata": {},
   "source": [
    "# CREATE A 2-D ARRAY USING arange()"
   ]
  },
  {
   "cell_type": "code",
   "execution_count": 8,
   "id": "3b8e49f3",
   "metadata": {},
   "outputs": [
    {
     "name": "stdout",
     "output_type": "stream",
     "text": [
      "[[0 1 2 3 4]\n",
      " [5 6 7 8 9]]\n",
      "int32\n",
      "(2, 5)\n"
     ]
    }
   ],
   "source": [
    "import numpy as np\n",
    "b=np.arange(10).reshape(2,5) #if we multiply numbers in reshape() it must become 10\n",
    "print(b)\n",
    "print(b.dtype)\n",
    "print(b.shape)"
   ]
  },
  {
   "cell_type": "code",
   "execution_count": 9,
   "id": "31b8176e",
   "metadata": {},
   "outputs": [
    {
     "name": "stdout",
     "output_type": "stream",
     "text": [
      "[[0 1]\n",
      " [2 3]\n",
      " [4 5]\n",
      " [6 7]\n",
      " [8 9]]\n",
      "int32\n",
      "(5, 2)\n"
     ]
    }
   ],
   "source": [
    "import numpy as np\n",
    "b=np.arange(10).reshape(5,2)\n",
    "print(b)\n",
    "print(b.dtype)\n",
    "print(b.shape)"
   ]
  },
  {
   "cell_type": "markdown",
   "id": "dea90243",
   "metadata": {},
   "source": [
    "# CREATE A 3-D ARRAY USING array()"
   ]
  },
  {
   "cell_type": "code",
   "execution_count": 12,
   "id": "56956d3d",
   "metadata": {},
   "outputs": [
    {
     "name": "stdout",
     "output_type": "stream",
     "text": [
      "[[[ 1  2  3]\n",
      "  [ 5  6  7]]\n",
      "\n",
      " [[ 8  9 10]\n",
      "  [11 12 13]]\n",
      "\n",
      " [[14 15 16]\n",
      "  [17 18 19]]]\n",
      "int32\n",
      "(3, 2, 3)\n"
     ]
    }
   ],
   "source": [
    "import numpy as np\n",
    "c=np.array(\n",
    "    [\n",
    "    [[1,2,3],[5,6,7]],         #3 2-d array with 2-rows and 3-columns\n",
    "    [[8,9,10],[11,12,13]],\n",
    "    [[14,15,16],[17,18,19]]\n",
    "    ]\n",
    ")\n",
    "print(c)\n",
    "print(c.dtype)\n",
    "print(c.shape)"
   ]
  },
  {
   "cell_type": "markdown",
   "id": "a6fb427f",
   "metadata": {},
   "source": [
    "# CREATE A 3-D ARRAY USING arange()"
   ]
  },
  {
   "cell_type": "code",
   "execution_count": 18,
   "id": "730f529f",
   "metadata": {},
   "outputs": [
    {
     "name": "stdout",
     "output_type": "stream",
     "text": [
      "[[[ 1  2]\n",
      "  [ 3  4]\n",
      "  [ 5  6]]\n",
      "\n",
      " [[ 7  8]\n",
      "  [ 9 10]\n",
      "  [11 12]]\n",
      "\n",
      " [[13 14]\n",
      "  [15 16]\n",
      "  [17 18]]]\n",
      "int32\n",
      "(3,)\n"
     ]
    }
   ],
   "source": [
    "import numpy as np\n",
    "c=np.arange(1,19).reshape(3,3,2)  #3 2-d array with 3-rows and 2-columns\n",
    "print(c)                          \n",
    "print(a.dtype)\n",
    "print(a.shape)      #shape() gives total number of elements in array"
   ]
  },
  {
   "cell_type": "markdown",
   "id": "82e0fc46",
   "metadata": {},
   "source": [
    "# CREATE ARRAY OF ONES (1-D)"
   ]
  },
  {
   "cell_type": "code",
   "execution_count": 25,
   "id": "3e94aa6c",
   "metadata": {},
   "outputs": [
    {
     "name": "stdout",
     "output_type": "stream",
     "text": [
      "[1 1]\n",
      "int32\n",
      "(2,)\n"
     ]
    }
   ],
   "source": [
    "import numpy as np\n",
    "d=np.ones(2,dtype=np.int32) #dtype of numpy is default float64\n",
    "print(d)\n",
    "print(d.dtype)\n",
    "print(d.shape)"
   ]
  },
  {
   "cell_type": "markdown",
   "id": "c3ec2e4c",
   "metadata": {},
   "source": [
    "# CREATE ARRAY OF ONES(2-D)"
   ]
  },
  {
   "cell_type": "code",
   "execution_count": 27,
   "id": "83bd90f2",
   "metadata": {},
   "outputs": [
    {
     "name": "stdout",
     "output_type": "stream",
     "text": [
      "[[1 1 1]\n",
      " [1 1 1]]\n",
      "int32\n",
      "(2, 3)\n"
     ]
    }
   ],
   "source": [
    "import numpy as np\n",
    "d=np.ones((2,3),dtype=np.int32)\n",
    "print(d)\n",
    "print(d.dtype)\n",
    "print(d.shape)"
   ]
  },
  {
   "cell_type": "markdown",
   "id": "f18aff09",
   "metadata": {},
   "source": [
    "# CREATE ARRAY OF ONES(3-D)"
   ]
  },
  {
   "cell_type": "code",
   "execution_count": 30,
   "id": "35453968",
   "metadata": {},
   "outputs": [
    {
     "name": "stdout",
     "output_type": "stream",
     "text": [
      "[[[1 1 1]\n",
      "  [1 1 1]]\n",
      "\n",
      " [[1 1 1]\n",
      "  [1 1 1]]\n",
      "\n",
      " [[1 1 1]\n",
      "  [1 1 1]]]\n",
      "int32\n",
      "(3, 2, 3)\n"
     ]
    }
   ],
   "source": [
    "import numpy as np\n",
    "d=np.ones((3,2,3),dtype=\"int32\")\n",
    "print(d)\n",
    "print(d.dtype)\n",
    "print(d.shape)"
   ]
  },
  {
   "cell_type": "markdown",
   "id": "f31df189",
   "metadata": {},
   "source": [
    "# CREATE ARRAY OF ZEROS(1-D)"
   ]
  },
  {
   "cell_type": "code",
   "execution_count": 31,
   "id": "8f14c68b",
   "metadata": {},
   "outputs": [
    {
     "name": "stdout",
     "output_type": "stream",
     "text": [
      "[0 0 0]\n",
      "int32\n",
      "(3,)\n"
     ]
    }
   ],
   "source": [
    "import numpy as np\n",
    "f=np.zeros((3),dtype=np.int32)\n",
    "print(f)\n",
    "print(f.dtype)\n",
    "print(f.shape)"
   ]
  },
  {
   "cell_type": "markdown",
   "id": "a5bb2481",
   "metadata": {},
   "source": [
    "# CREATE ARRAY OF ZEROS(2-D)"
   ]
  },
  {
   "cell_type": "code",
   "execution_count": 33,
   "id": "7deffb8b",
   "metadata": {},
   "outputs": [
    {
     "name": "stdout",
     "output_type": "stream",
     "text": [
      "[[0 0 0]\n",
      " [0 0 0]]\n",
      "int32\n",
      "(2, 3)\n"
     ]
    }
   ],
   "source": [
    "import numpy as np\n",
    "f=np.zeros((2,3),dtype=np.int32)\n",
    "print(f)\n",
    "print(f.dtype)\n",
    "print(f.shape)"
   ]
  },
  {
   "cell_type": "markdown",
   "id": "f932ac27",
   "metadata": {},
   "source": [
    "# CREATE ARRAY OF ZEROS(3-D)"
   ]
  },
  {
   "cell_type": "code",
   "execution_count": 36,
   "id": "509b1cd5",
   "metadata": {},
   "outputs": [
    {
     "name": "stdout",
     "output_type": "stream",
     "text": [
      "[[[0 0 0]\n",
      "  [0 0 0]]\n",
      "\n",
      " [[0 0 0]\n",
      "  [0 0 0]]\n",
      "\n",
      " [[0 0 0]\n",
      "  [0 0 0]]]\n",
      "int32\n",
      "(3, 2, 3)\n"
     ]
    }
   ],
   "source": [
    "import numpy as np\n",
    "f=np.zeros((3,2,3),dtype=np.int32)\n",
    "print(f)\n",
    "print(f.dtype)\n",
    "print(f.shape)"
   ]
  },
  {
   "cell_type": "markdown",
   "id": "4906d492",
   "metadata": {},
   "source": [
    "# CREATE AN ARRAY WITH RANDOM NUMBERS(1-D)"
   ]
  },
  {
   "cell_type": "code",
   "execution_count": 38,
   "id": "c16b32a3",
   "metadata": {},
   "outputs": [
    {
     "name": "stdout",
     "output_type": "stream",
     "text": [
      "[2 2 3 5 2 2]\n",
      "int32\n",
      "(6,)\n"
     ]
    }
   ],
   "source": [
    "import numpy as np\n",
    "a=np.random.randint(1,6,size=(6))\n",
    "print(a)\n",
    "print(a.dtype)\n",
    "print(a.shape)"
   ]
  },
  {
   "cell_type": "markdown",
   "id": "26c394db",
   "metadata": {},
   "source": [
    "# CREATE AN ARRAY WITH RANDOM NUMBERS(2-D)"
   ]
  },
  {
   "cell_type": "code",
   "execution_count": 39,
   "id": "294402ea",
   "metadata": {},
   "outputs": [
    {
     "name": "stdout",
     "output_type": "stream",
     "text": [
      "[[10  9  3]\n",
      " [ 2  3  8]]\n",
      "int32\n",
      "(2, 3)\n"
     ]
    }
   ],
   "source": [
    "import numpy as np\n",
    "b=np.random.randint(1,11,size=(2,3))  #size==shape\n",
    "print(b)\n",
    "print(b.dtype)\n",
    "print(b.shape)"
   ]
  },
  {
   "cell_type": "markdown",
   "id": "b57dd23e",
   "metadata": {},
   "source": [
    "# CREATE AN ARRAY WITH RANDOM NUMBERS(3-D)"
   ]
  },
  {
   "cell_type": "code",
   "execution_count": 41,
   "id": "1f4ea0ca",
   "metadata": {},
   "outputs": [
    {
     "name": "stdout",
     "output_type": "stream",
     "text": [
      "[[[15 17 17]\n",
      "  [12 19 10]]\n",
      "\n",
      " [[14 19 16]\n",
      "  [18 18 19]]\n",
      "\n",
      " [[19 12 12]\n",
      "  [12 19 16]]]\n",
      "int32\n",
      "(3, 2, 3)\n"
     ]
    }
   ],
   "source": [
    "import numpy as np\n",
    "c=np.random.randint(10,21,size=(3,2,3))\n",
    "print(c)\n",
    "print(c.dtype)\n",
    "print(c.shape)"
   ]
  },
  {
   "cell_type": "markdown",
   "id": "ef3863f0",
   "metadata": {},
   "source": [
    "# CREATE ARRAY WITH SINGLE LOW MULTIPLE HIGH"
   ]
  },
  {
   "cell_type": "code",
   "execution_count": 43,
   "id": "129ce77f",
   "metadata": {},
   "outputs": [
    {
     "name": "stdout",
     "output_type": "stream",
     "text": [
      "[ 6  8 24]\n",
      "int32\n",
      "(3,)\n"
     ]
    }
   ],
   "source": [
    "import numpy as np\n",
    "a=np.random.randint(5,[10,20,30])\n",
    "print(a)\n",
    "print(a.dtype)\n",
    "print(a.shape)"
   ]
  },
  {
   "cell_type": "markdown",
   "id": "0e260d10",
   "metadata": {},
   "source": [
    "# CREATE ARRAY WITH MULTIPLE LOW SINGLE HIGH"
   ]
  },
  {
   "cell_type": "code",
   "execution_count": 51,
   "id": "96716110",
   "metadata": {},
   "outputs": [
    {
     "name": "stdout",
     "output_type": "stream",
     "text": [
      "[2 2 6]\n",
      "int32\n",
      "(3,)\n"
     ]
    }
   ],
   "source": [
    "import numpy as np\n",
    "b=np.random.randint([1,2,3],10)\n",
    "print(b)\n",
    "print(b.dtype)\n",
    "print(b.shape)"
   ]
  },
  {
   "cell_type": "markdown",
   "id": "4f2f8194",
   "metadata": {},
   "source": [
    "# CREATE ARRAY WITH MULTIPLE LOW MULTIPLE HIGH"
   ]
  },
  {
   "cell_type": "code",
   "execution_count": 2,
   "id": "a8287620",
   "metadata": {},
   "outputs": [
    {
     "name": "stdout",
     "output_type": "stream",
     "text": [
      "[ 3  2 27]\n",
      "int32\n",
      "(3,)\n"
     ]
    }
   ],
   "source": [
    "import numpy as np\n",
    "a=np.random.randint([1,2,3],[10,20,30])\n",
    "print(a)\n",
    "print(a.dtype)\n",
    "print(a.shape)"
   ]
  },
  {
   "cell_type": "markdown",
   "id": "ce1ad82f",
   "metadata": {},
   "source": [
    "# CREATE ARRAY WITH RANDOM NUMBERS USING randn() (1-D)"
   ]
  },
  {
   "cell_type": "code",
   "execution_count": 5,
   "id": "f6ff2856",
   "metadata": {},
   "outputs": [
    {
     "name": "stdout",
     "output_type": "stream",
     "text": [
      "[-1.08269211 -1.27965982 -1.19004382]\n",
      "float64\n",
      "(3,)\n"
     ]
    }
   ],
   "source": [
    "import numpy as np\n",
    "a=np.random.randn(3)\n",
    "print(a)\n",
    "print(a.dtype)\n",
    "print(a.shape)"
   ]
  },
  {
   "cell_type": "markdown",
   "id": "cc8bf264",
   "metadata": {},
   "source": [
    "# CREATE NUMPY WITH RANDOM NUMBERS USING randn() (2-D)"
   ]
  },
  {
   "cell_type": "code",
   "execution_count": 8,
   "id": "4675c8a7",
   "metadata": {},
   "outputs": [
    {
     "name": "stdout",
     "output_type": "stream",
     "text": [
      "[[-0.23353583  0.02653656]\n",
      " [ 0.14683944 -0.22120399]\n",
      " [-0.18268175 -0.13126485]]\n",
      "float64\n",
      "(3, 2)\n"
     ]
    }
   ],
   "source": [
    "import numpy as np\n",
    "b=np.random.randn(3,2)\n",
    "print(b)\n",
    "print(b.dtype)\n",
    "print(b.shape)"
   ]
  },
  {
   "cell_type": "markdown",
   "id": "50fcee43",
   "metadata": {},
   "source": [
    "# CREATE ARRAY WITH RANDOM NUMBERS USING randn() (3-D)"
   ]
  },
  {
   "cell_type": "code",
   "execution_count": 10,
   "id": "e2323c02",
   "metadata": {},
   "outputs": [
    {
     "name": "stdout",
     "output_type": "stream",
     "text": [
      "[[[ 0.17690788  1.5283026 ]\n",
      "  [-0.51405264  0.08818944]\n",
      "  [-0.60759473  0.01136548]]\n",
      "\n",
      " [[ 1.27045933  0.26684523]\n",
      "  [ 0.7982055   0.69655462]\n",
      "  [ 2.33320887  0.24936803]]\n",
      "\n",
      " [[ 0.1194499  -1.94728094]\n",
      "  [ 1.84010729 -0.40432439]\n",
      "  [ 0.25344769 -0.49382074]]]\n",
      "float64\n",
      "(3, 3, 2)\n"
     ]
    }
   ],
   "source": [
    "import numpy as np\n",
    "c=np.random.randn(3,3,2)\n",
    "print(c)\n",
    "print(c.dtype)\n",
    "print(c.shape)"
   ]
  },
  {
   "cell_type": "markdown",
   "id": "ce1b6aff",
   "metadata": {},
   "source": [
    "# CREATE ARRAY OF RANDOM NUMBERS USING rand()"
   ]
  },
  {
   "cell_type": "code",
   "execution_count": 2,
   "id": "8a1f4386",
   "metadata": {},
   "outputs": [
    {
     "name": "stdout",
     "output_type": "stream",
     "text": [
      "[0.3052765  0.97305904 0.60890098]\n",
      "float64\n",
      "(3,)\n"
     ]
    }
   ],
   "source": [
    "import numpy as np\n",
    "a=np.random.rand(3)\n",
    "print(a)\n",
    "print(a.dtype)\n",
    "print(a.shape)"
   ]
  },
  {
   "cell_type": "markdown",
   "id": "a8cfd487",
   "metadata": {},
   "source": [
    "# POSITIVE INDEXING IN ARRAY(left - right)"
   ]
  },
  {
   "cell_type": "code",
   "execution_count": 8,
   "id": "dff3945b",
   "metadata": {},
   "outputs": [
    {
     "name": "stdout",
     "output_type": "stream",
     "text": [
      "3\n",
      "8\n"
     ]
    },
    {
     "data": {
      "text/plain": [
       "4"
      ]
     },
     "execution_count": 8,
     "metadata": {},
     "output_type": "execute_result"
    }
   ],
   "source": [
    "#array with 1-D\n",
    "import numpy as np\n",
    "arr=np.array([1,2,3,4,5,6,7,8])\n",
    "print(arr[2])\n",
    "print(arr[7])    #permanent method\n",
    "arr[3]           #not permanent method"
   ]
  },
  {
   "cell_type": "code",
   "execution_count": 10,
   "id": "fdfa6364",
   "metadata": {},
   "outputs": [
    {
     "name": "stdout",
     "output_type": "stream",
     "text": [
      "3\n",
      "6\n"
     ]
    }
   ],
   "source": [
    "#array with 2-D\n",
    "import numpy as np\n",
    "arr=np.array([[1,2,3],[5,6,7]])\n",
    "print(arr[0,2])\n",
    "print(arr[1,1])"
   ]
  },
  {
   "cell_type": "code",
   "execution_count": 12,
   "id": "d08540ea",
   "metadata": {},
   "outputs": [
    {
     "name": "stdout",
     "output_type": "stream",
     "text": [
      "5\n",
      "400\n"
     ]
    }
   ],
   "source": [
    "#array with 3-D\n",
    "import numpy as np\n",
    "arr=np.array(\n",
    "    [\n",
    "        [[1,2,3],[4,5,6]],\n",
    "        [[10,20,30],[12,13,14]],\n",
    "        [[100,200,300],[400,500,600]]    \n",
    "    ]\n",
    "            )\n",
    "print(arr[0,1,1])\n",
    "print(arr[2,1,0])"
   ]
  },
  {
   "cell_type": "markdown",
   "id": "c7f5e010",
   "metadata": {},
   "source": [
    "# NEGETIVE INDEXING IN ARRAY(right - left)"
   ]
  },
  {
   "cell_type": "code",
   "execution_count": 17,
   "id": "1a1f4b7b",
   "metadata": {},
   "outputs": [
    {
     "name": "stdout",
     "output_type": "stream",
     "text": [
      "6\n",
      "7\n",
      "1\n"
     ]
    }
   ],
   "source": [
    "#array with 1-D\n",
    "import numpy as np\n",
    "arr=np.array([1,2,3,4,5,6,7])\n",
    "print(arr[-2])\n",
    "print(arr[-1])\n",
    "print(arr[-7])"
   ]
  },
  {
   "cell_type": "code",
   "execution_count": 18,
   "id": "7c4cb365",
   "metadata": {},
   "outputs": [
    {
     "name": "stdout",
     "output_type": "stream",
     "text": [
      "5\n"
     ]
    }
   ],
   "source": [
    "#array with 2-D\n",
    "import numpy as np\n",
    "arr=np.array([[1,2,3],[4,5,6]])\n",
    "print(arr[-1,-2])"
   ]
  },
  {
   "cell_type": "code",
   "execution_count": 21,
   "id": "8bdb7b93",
   "metadata": {},
   "outputs": [
    {
     "name": "stdout",
     "output_type": "stream",
     "text": [
      "11\n",
      "5\n"
     ]
    }
   ],
   "source": [
    "#arry with 3-D\n",
    "import numpy as np\n",
    "arr=np.array(\n",
    "    [\n",
    "        [[1,2,3],[5,6,7]],\n",
    "        [[12,13,14],[11,10,49]]\n",
    "    ]\n",
    "            )\n",
    "print(arr[-1,-1,-3])\n",
    "print(arr[-2,-1,-3])"
   ]
  },
  {
   "cell_type": "markdown",
   "id": "56f512d9",
   "metadata": {},
   "source": [
    "# MIXING OF (+ AND -)"
   ]
  },
  {
   "cell_type": "code",
   "execution_count": 26,
   "id": "6c7f2ca4",
   "metadata": {},
   "outputs": [
    {
     "name": "stdout",
     "output_type": "stream",
     "text": [
      "7\n",
      "7\n",
      "44\n",
      "45\n"
     ]
    }
   ],
   "source": [
    "import numpy as np\n",
    "arr=np.array(\n",
    "    [\n",
    "        [[2,3,4],[5,6,7]],\n",
    "        [[10,2,4],[6,7,29]],\n",
    "        [[22,11,14],[23,45,44]]\n",
    "    ]\n",
    ")\n",
    "print(arr[1,1,1])\n",
    "print(arr[-2,-1,-2])\n",
    "print(arr[2,-1,2])\n",
    "print(arr[-1,1,-2])"
   ]
  },
  {
   "cell_type": "markdown",
   "id": "bacfa2b5",
   "metadata": {},
   "source": [
    "# NUMPY  ARRAY SLICING"
   ]
  },
  {
   "cell_type": "markdown",
   "id": "1aab1166",
   "metadata": {},
   "source": [
    "slice elements from index 1 to index 5 from following array:"
   ]
  },
  {
   "cell_type": "code",
   "execution_count": 1,
   "id": "ac250e25",
   "metadata": {},
   "outputs": [
    {
     "name": "stdout",
     "output_type": "stream",
     "text": [
      "[2 3 4 5]\n"
     ]
    }
   ],
   "source": [
    "import numpy as np\n",
    "arr=np.array([1,2,3,4,5,6,7])\n",
    "print(arr[1:5])"
   ]
  },
  {
   "cell_type": "markdown",
   "id": "7e77f49e",
   "metadata": {},
   "source": [
    "slice elements from index 4 to the end of the array"
   ]
  },
  {
   "cell_type": "code",
   "execution_count": 2,
   "id": "556c3c08",
   "metadata": {},
   "outputs": [
    {
     "name": "stdout",
     "output_type": "stream",
     "text": [
      "[5 6 7]\n"
     ]
    }
   ],
   "source": [
    "import numpy as np\n",
    "arr=np.array([1,2,3,4,5,6,7])\n",
    "print(arr[4:])"
   ]
  },
  {
   "cell_type": "markdown",
   "id": "9696909d",
   "metadata": {},
   "source": [
    "slice elements from the beginning to index 4(not included)"
   ]
  },
  {
   "cell_type": "code",
   "execution_count": 7,
   "id": "0ca58da2",
   "metadata": {},
   "outputs": [
    {
     "name": "stdout",
     "output_type": "stream",
     "text": [
      "[1 2 3 4]\n"
     ]
    }
   ],
   "source": [
    "import numpy as np\n",
    "arr=np.array([1,2,3,4,5,6,7])\n",
    "print(arr[:4])"
   ]
  },
  {
   "cell_type": "markdown",
   "id": "371de07b",
   "metadata": {},
   "source": [
    "# NEGETIVE SLICING"
   ]
  },
  {
   "cell_type": "markdown",
   "id": "46a5ae4d",
   "metadata": {},
   "source": [
    "slice from the index 3 from the end to index 1 from the end:"
   ]
  },
  {
   "cell_type": "code",
   "execution_count": 8,
   "id": "8987b67f",
   "metadata": {},
   "outputs": [
    {
     "name": "stdout",
     "output_type": "stream",
     "text": [
      "[5 6]\n"
     ]
    }
   ],
   "source": [
    "import numpy as np\n",
    "arr=np.array([1,2,3,4,5,6,7])\n",
    "print(arr[-3:-1])"
   ]
  },
  {
   "cell_type": "markdown",
   "id": "720b0871",
   "metadata": {},
   "source": [
    "return every other elemrnt from index 1 to index 5"
   ]
  },
  {
   "cell_type": "code",
   "execution_count": 16,
   "id": "9c93c16f",
   "metadata": {},
   "outputs": [
    {
     "name": "stdout",
     "output_type": "stream",
     "text": [
      "[7 5]\n"
     ]
    }
   ],
   "source": [
    "import numpy as np\n",
    "arr=np.array([1,2,3,4,5,6,7])\n",
    "print(arr[-1:-5:-2])"
   ]
  },
  {
   "cell_type": "markdown",
   "id": "cd09aa1a",
   "metadata": {},
   "source": [
    "return every other element from the entire array"
   ]
  },
  {
   "cell_type": "code",
   "execution_count": 18,
   "id": "ee32fe7b",
   "metadata": {},
   "outputs": [
    {
     "name": "stdout",
     "output_type": "stream",
     "text": [
      "[1 3 5 7]\n"
     ]
    }
   ],
   "source": [
    "import numpy as np\n",
    "arr=np.array([1,2,3,4,5,6,7])\n",
    "print(arr[::2])"
   ]
  },
  {
   "cell_type": "markdown",
   "id": "c6bd5562",
   "metadata": {},
   "source": [
    "# SLICING 2-D ARRAYS"
   ]
  },
  {
   "cell_type": "markdown",
   "id": "18a0d2e3",
   "metadata": {},
   "source": [
    "from the second element,slice elements from index 1 to index 4(not included)"
   ]
  },
  {
   "cell_type": "code",
   "execution_count": 13,
   "id": "23968cb2",
   "metadata": {},
   "outputs": [
    {
     "name": "stdout",
     "output_type": "stream",
     "text": [
      "[7 8 9]\n"
     ]
    }
   ],
   "source": [
    "import numpy as np\n",
    "arr=np.array([[1,2,3,4,5],[6,7,8,9,10]])\n",
    "print(arr[1,1:4])"
   ]
  },
  {
   "cell_type": "markdown",
   "id": "b8b361a0",
   "metadata": {},
   "source": [
    "from both arrays, return index 2:"
   ]
  },
  {
   "cell_type": "code",
   "execution_count": 19,
   "id": "19abdab2",
   "metadata": {},
   "outputs": [
    {
     "name": "stdout",
     "output_type": "stream",
     "text": [
      "[3 8]\n"
     ]
    }
   ],
   "source": [
    "import numpy as np\n",
    "arr=np.array([[1,2,3,4,5],[6,7,8,9,10]])\n",
    "print(arr[0:2,2])"
   ]
  },
  {
   "cell_type": "markdown",
   "id": "d2ba349b",
   "metadata": {},
   "source": [
    "from both arrays,slice index 1 to index 4(not included),\n",
    "this will return 2-d array "
   ]
  },
  {
   "cell_type": "code",
   "execution_count": 21,
   "id": "5c703840",
   "metadata": {},
   "outputs": [
    {
     "name": "stdout",
     "output_type": "stream",
     "text": [
      "[[2 3 4]\n",
      " [7 8 9]]\n"
     ]
    }
   ],
   "source": [
    "import numpy as np\n",
    "arr=np.array([[1,2,3,4,5],[6,7,8,9,10]])\n",
    "print(arr[0:2,1:4])"
   ]
  }
 ],
 "metadata": {
  "kernelspec": {
   "display_name": "Python 3 (ipykernel)",
   "language": "python",
   "name": "python3"
  },
  "language_info": {
   "codemirror_mode": {
    "name": "ipython",
    "version": 3
   },
   "file_extension": ".py",
   "mimetype": "text/x-python",
   "name": "python",
   "nbconvert_exporter": "python",
   "pygments_lexer": "ipython3",
   "version": "3.9.12"
  }
 },
 "nbformat": 4,
 "nbformat_minor": 5
}
