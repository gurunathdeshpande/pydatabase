{
 "cells": [
  {
   "cell_type": "markdown",
   "id": "2d7fa4ee",
   "metadata": {},
   "source": [
    "# PANDAS SERIES"
   ]
  },
  {
   "cell_type": "markdown",
   "id": "2aedd42b",
   "metadata": {},
   "source": [
    "Series is an 1D labeled array capable of holding data of any type(integer,float,python objects, etc).The axis labeled are collectivelly called as index"
   ]
  },
  {
   "cell_type": "markdown",
   "id": "d4e4d406",
   "metadata": {},
   "source": [
    "#syntax : pd.Series(data,index,dtype,copy)"
   ]
  },
  {
   "cell_type": "code",
   "execution_count": 2,
   "id": "dd053e73",
   "metadata": {},
   "outputs": [
    {
     "name": "stdout",
     "output_type": "stream",
     "text": [
      "0    1\n",
      "1    2\n",
      "2    3\n",
      "3    4\n",
      "4    5\n",
      "dtype: int64\n",
      "\n",
      "0    a\n",
      "1    b\n",
      "2    c\n",
      "3    d\n",
      "4    e\n",
      "dtype: object\n"
     ]
    }
   ],
   "source": [
    "import numpy as np\n",
    "import pandas as pd\n",
    "ser1 = pd.Series([1,2,3,4,5])\n",
    "print(ser1)\n",
    "print()\n",
    "ser2 = pd.Series(['a','b','c','d','e'])\n",
    "print(ser2)"
   ]
  },
  {
   "cell_type": "code",
   "execution_count": 3,
   "id": "f3d2025a",
   "metadata": {},
   "outputs": [
    {
     "name": "stdout",
     "output_type": "stream",
     "text": [
      "0    1.0\n",
      "1    2.0\n",
      "2    3.0\n",
      "3    4.0\n",
      "4    5.0\n",
      "dtype: float64\n"
     ]
    }
   ],
   "source": [
    "import numpy as np\n",
    "import pandas as pd\n",
    "ser1 = pd.Series([1,2,3,4,5] , dtype = np.float64)\n",
    "print(ser1)"
   ]
  },
  {
   "cell_type": "code",
   "execution_count": 7,
   "id": "9066087a",
   "metadata": {},
   "outputs": [
    {
     "name": "stdout",
     "output_type": "stream",
     "text": [
      "num1    1\n",
      "num2    2\n",
      "num3    3\n",
      "num4    4\n",
      "num5    5\n",
      "dtype: int64\n"
     ]
    }
   ],
   "source": [
    "import numpy as np\n",
    "import pandas as pd\n",
    "ser1 = pd.Series([1,2,3,4,5],index=[\"num1\",\"num2\",\"num3\",\"num4\",\"num5\"])\n",
    "print(ser1)"
   ]
  },
  {
   "cell_type": "code",
   "execution_count": 9,
   "id": "6e15981f",
   "metadata": {},
   "outputs": [
    {
     "name": "stdout",
     "output_type": "stream",
     "text": [
      "num1    1\n",
      "num2    2\n",
      "num3    3\n",
      "num4    4\n",
      "num5    5\n",
      "dtype: int64\n"
     ]
    }
   ],
   "source": [
    "import numpy as np\n",
    "import pandas as pd\n",
    "i = pd.Index([\"num1\",\"num2\",\"num3\",\"num4\",\"num5\"])\n",
    "ser1 = pd.Series([1,2,3,4,5],i)\n",
    "print(ser1)"
   ]
  },
  {
   "cell_type": "markdown",
   "id": "3bc68770",
   "metadata": {},
   "source": [
    "creating Series using dictionary method"
   ]
  },
  {
   "cell_type": "code",
   "execution_count": 10,
   "id": "0022dd76",
   "metadata": {},
   "outputs": [
    {
     "name": "stdout",
     "output_type": "stream",
     "text": [
      "Rohit      40\n",
      "KL         23\n",
      "Virat     100\n",
      "Panth      12\n",
      "Chahal      2\n",
      "dtype: int64\n"
     ]
    }
   ],
   "source": [
    "import numpy as np\n",
    "import pandas as pd\n",
    "ser1 = pd.Series({\"Rohit\":40,\"KL\":23,\"Virat\":100,\"Panth\":12,\"Chahal\":2})\n",
    "print(ser1)"
   ]
  },
  {
   "cell_type": "markdown",
   "id": "a33fa87b",
   "metadata": {},
   "source": [
    "# DATAFRAMES"
   ]
  },
  {
   "cell_type": "markdown",
   "id": "a51e6c6a",
   "metadata": {},
   "source": [
    "DataFrames is the collection of multiple Series"
   ]
  },
  {
   "cell_type": "code",
   "execution_count": null,
   "id": "4fabe17a",
   "metadata": {},
   "outputs": [],
   "source": []
  }
 ],
 "metadata": {
  "kernelspec": {
   "display_name": "Python 3 (ipykernel)",
   "language": "python",
   "name": "python3"
  },
  "language_info": {
   "codemirror_mode": {
    "name": "ipython",
    "version": 3
   },
   "file_extension": ".py",
   "mimetype": "text/x-python",
   "name": "python",
   "nbconvert_exporter": "python",
   "pygments_lexer": "ipython3",
   "version": "3.9.12"
  }
 },
 "nbformat": 4,
 "nbformat_minor": 5
}
