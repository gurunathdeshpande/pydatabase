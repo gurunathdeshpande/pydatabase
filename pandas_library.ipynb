{
 "cells": [
  {
   "cell_type": "markdown",
   "id": "2d7fa4ee",
   "metadata": {},
   "source": [
    "# PANDAS SERIES"
   ]
  },
  {
   "cell_type": "markdown",
   "id": "2aedd42b",
   "metadata": {},
   "source": [
    "Series is an 1D labeled array capable of holding data of any type(integer,float,python objects, etc).The axis labeled are collectivelly called as index"
   ]
  },
  {
   "cell_type": "markdown",
   "id": "d4e4d406",
   "metadata": {},
   "source": [
    "#syntax : pd.Series(data,index,dtype,copy)"
   ]
  },
  {
   "cell_type": "code",
   "execution_count": 2,
   "id": "dd053e73",
   "metadata": {},
   "outputs": [
    {
     "name": "stdout",
     "output_type": "stream",
     "text": [
      "0    1\n",
      "1    2\n",
      "2    3\n",
      "3    4\n",
      "4    5\n",
      "dtype: int64\n",
      "\n",
      "0    a\n",
      "1    b\n",
      "2    c\n",
      "3    d\n",
      "4    e\n",
      "dtype: object\n"
     ]
    }
   ],
   "source": [
    "import numpy as np\n",
    "import pandas as pd\n",
    "ser1 = pd.Series([1,2,3,4,5])\n",
    "print(ser1)\n",
    "print()\n",
    "ser2 = pd.Series(['a','b','c','d','e'])\n",
    "print(ser2)"
   ]
  },
  {
   "cell_type": "code",
   "execution_count": 3,
   "id": "f3d2025a",
   "metadata": {},
   "outputs": [
    {
     "name": "stdout",
     "output_type": "stream",
     "text": [
      "0    1.0\n",
      "1    2.0\n",
      "2    3.0\n",
      "3    4.0\n",
      "4    5.0\n",
      "dtype: float64\n"
     ]
    }
   ],
   "source": [
    "import numpy as np\n",
    "import pandas as pd\n",
    "ser1 = pd.Series([1,2,3,4,5] , dtype = np.float64)\n",
    "print(ser1)"
   ]
  },
  {
   "cell_type": "code",
   "execution_count": 7,
   "id": "9066087a",
   "metadata": {},
   "outputs": [
    {
     "name": "stdout",
     "output_type": "stream",
     "text": [
      "num1    1\n",
      "num2    2\n",
      "num3    3\n",
      "num4    4\n",
      "num5    5\n",
      "dtype: int64\n"
     ]
    }
   ],
   "source": [
    "import numpy as np\n",
    "import pandas as pd\n",
    "ser1 = pd.Series([1,2,3,4,5],index=[\"num1\",\"num2\",\"num3\",\"num4\",\"num5\"])\n",
    "print(ser1)"
   ]
  },
  {
   "cell_type": "code",
   "execution_count": 9,
   "id": "6e15981f",
   "metadata": {},
   "outputs": [
    {
     "name": "stdout",
     "output_type": "stream",
     "text": [
      "num1    1\n",
      "num2    2\n",
      "num3    3\n",
      "num4    4\n",
      "num5    5\n",
      "dtype: int64\n"
     ]
    }
   ],
   "source": [
    "import numpy as np\n",
    "import pandas as pd\n",
    "i = pd.Index([\"num1\",\"num2\",\"num3\",\"num4\",\"num5\"])\n",
    "ser1 = pd.Series([1,2,3,4,5],i)\n",
    "print(ser1)"
   ]
  },
  {
   "cell_type": "markdown",
   "id": "3bc68770",
   "metadata": {},
   "source": [
    "creating Series using dictionary method"
   ]
  },
  {
   "cell_type": "code",
   "execution_count": 10,
   "id": "0022dd76",
   "metadata": {},
   "outputs": [
    {
     "name": "stdout",
     "output_type": "stream",
     "text": [
      "Rohit      40\n",
      "KL         23\n",
      "Virat     100\n",
      "Panth      12\n",
      "Chahal      2\n",
      "dtype: int64\n"
     ]
    }
   ],
   "source": [
    "import numpy as np\n",
    "import pandas as pd\n",
    "ser1 = pd.Series({\"Rohit\":40,\"KL\":23,\"Virat\":100,\"Panth\":12,\"Chahal\":2})\n",
    "print(ser1)"
   ]
  },
  {
   "cell_type": "markdown",
   "id": "a33fa87b",
   "metadata": {},
   "source": [
    "#  PANDAS DATAFRAMES"
   ]
  },
  {
   "cell_type": "markdown",
   "id": "a51e6c6a",
   "metadata": {},
   "source": [
    "DataFrames is the collection of multiple Series\n",
    "\n",
    "* SYNTAX : pd.DataFrame(array , index ,columns)"
   ]
  },
  {
   "cell_type": "code",
   "execution_count": 4,
   "id": "4fabe17a",
   "metadata": {},
   "outputs": [
    {
     "name": "stdout",
     "output_type": "stream",
     "text": [
      "Numpy Array\n",
      "[[0 1 2]\n",
      " [3 4 5]\n",
      " [6 7 8]]\n",
      "\n",
      "Numpy DataFrame\n",
      "   A  B  C\n",
      "a  0  1  2\n",
      "b  3  4  5\n",
      "c  6  7  8\n"
     ]
    }
   ],
   "source": [
    "import numpy as np\n",
    "import pandas as pd\n",
    "arr = np.arange(0,9).reshape(3,3)\n",
    "print(\"Numpy Array\")\n",
    "print(arr)\n",
    "print()\n",
    "df = pd.DataFrame(arr , index=['a','b','c'], columns=['A','B','C'])\n",
    "print(\"Numpy DataFrame\")\n",
    "print(df)"
   ]
  },
  {
   "cell_type": "code",
   "execution_count": 21,
   "id": "955368f2",
   "metadata": {},
   "outputs": [
    {
     "name": "stdout",
     "output_type": "stream",
     "text": [
      "Numpy Array\n",
      "[[ 90  89  50 100]\n",
      " [ 78  90  77  89]\n",
      " [ 99  89  79  60]]\n",
      "\n",
      "Pandas DataFrame to store the marks of students in every subject\n",
      "--------------------------------\n",
      "          osa  python  java   se\n",
      "shridhar   90      89    50  100\n",
      "gururaj    78      90    77   89\n",
      "harshad    99      89    79   60\n"
     ]
    }
   ],
   "source": [
    "#Here single array stores marks of one student in every subject\n",
    "import numpy as np\n",
    "import pandas as pd\n",
    "arr = np.array([[90,89,50,100],[78,90,77,89],[99,89,79,60]])\n",
    "print(\"Numpy Array\")\n",
    "print(arr)\n",
    "print()\n",
    "df = pd.DataFrame(arr , index=['shridhar','gururaj','harshad'] , columns=['osa','python','java','se'])\n",
    "print(\"Pandas DataFrame to store the marks of students in every subject\")\n",
    "print(\"--------------------------------\")\n",
    "print(df)"
   ]
  },
  {
   "cell_type": "code",
   "execution_count": 73,
   "id": "447e2d6c",
   "metadata": {},
   "outputs": [
    {
     "name": "stdout",
     "output_type": "stream",
     "text": [
      "         osa  python  java   se\n",
      "Nihal     90      89    89   99\n",
      "Tanishk   78      90    60  100\n",
      "Ravi      99      87    99   78\n",
      "Arun      77      88   100   88\n"
     ]
    }
   ],
   "source": [
    "#Here single array stores marks of every students in one subject , it is possible when we are using dictionary method ,we can change this by using T method\n",
    "import numpy as np\n",
    "import pandas as pd\n",
    "df = pd.DataFrame({\"osa\":[90,78,99,77],\"python\":[89,90,87,88],\"java\":[89,60,99,100],\"se\":[99,100,78,88]} ,index=[\"Nihal\",\"Tanishk\",\"Ravi\",\"Arun\"])\n",
    "print(df) "
   ]
  },
  {
   "cell_type": "code",
   "execution_count": 62,
   "id": "add30fe5",
   "metadata": {},
   "outputs": [
    {
     "name": "stdout",
     "output_type": "stream",
     "text": [
      "   osa  java\n",
      "a    1     8\n",
      "b    2     7\n",
      "c    3     5\n",
      "d    7     4\n"
     ]
    }
   ],
   "source": [
    "import pandas as pd\n",
    "i = pd.Index([\"a\",\"b\",\"c\",\"d\"])\n",
    "#ser1 = pd.Series([1,2,3,2] ,index=i)\n",
    "#ser2 = pd.Series([8,9,5,8] ,index=i)\n",
    "#df = pd.DataFrame({\"osa\":ser1 , \"java\":ser2})\n",
    "df = pd.DataFrame([[1,8],[2,7],[3,5],[7,4]] , index=i , columns=[\"osa\" ,\"java\"])\n",
    "print(df)"
   ]
  },
  {
   "cell_type": "markdown",
   "id": "f9d6cfb9",
   "metadata": {},
   "source": [
    "# CREATE DATAFRAME CONTAINIMG INFORMATION ABOUT CITIES"
   ]
  },
  {
   "cell_type": "code",
   "execution_count": 71,
   "id": "cca5d232",
   "metadata": {},
   "outputs": [
    {
     "name": "stdout",
     "output_type": "stream",
     "text": [
      "            Population      Capital\n",
      "Karnataka          1.2    Bengalure\n",
      "Maharastara        2.0       Mumbai\n",
      "Gujarat            3.0  Gandhinagar\n"
     ]
    }
   ],
   "source": [
    "import numpy as np\n",
    "import pandas as pd\n",
    "i = pd.Index([\"Karnataka\",\"Maharastra\",\"Gujarat\"])\n",
    "#pop = pd.Series([1.2,3.0,2.0] , i)\n",
    "#cap = pd.Series([\"Bengalure\",\"Mumbai\",\"Gandhinagar\"] , i)\n",
    "#df = pd.DataFrame({\"population\":pop,\"capital\":cap})\n",
    "df = pd.Datadf = pd.DataFrame([[\"1.2\",\"Bengalure\"],[\"2.0\",\"Mumbai\"],[\"3.0\",\"Gandhinagar\"]] , index=[\"Karnataka\",\"Maharastara\",\"Gujarat\"] , columns=[\"Population\",\"Capital\"])\n",
    "#df = pd.DataFrame([[\"1.2\",\"Bengalure\"],[\"2.0\",\"Mumbai\"],[\"3.0\",\"Gandhinagar\"]] , index=[\"Karnataka\",\"Maharastara\",\"Gujarat\"] , columns=[\"Population\",\"Capital\"]).T\n",
    "print(df)\n",
    "# Here 'T' is transpos of matrix which converts rows to columns and vice versa"
   ]
  },
  {
   "cell_type": "markdown",
   "id": "e0097e03",
   "metadata": {},
   "source": [
    "Possibilities of creating DataFrame through multiple series\n",
    "\n",
    "1. Normal Series method\n",
    "\n",
    "2. Transpose method\n",
    "\n",
    "3. Dictionary method (key = Hedding , values = Series)(Don't need to give name in series)\n",
    "                                                      \n",
    "4. 2-D array method"
   ]
  },
  {
   "cell_type": "code",
   "execution_count": 75,
   "id": "ca7cc596",
   "metadata": {},
   "outputs": [
    {
     "name": "stdout",
     "output_type": "stream",
     "text": [
      "            Karnataka Maharastra      Gujarat\n",
      "population        1.2        3.4          1.1\n",
      "capital     Bengalure     Mumbai  Gandhinagar\n"
     ]
    }
   ],
   "source": [
    "#1.NORMAL SERIES METHOD\n",
    "import numpy as np\n",
    "import pandas as ps\n",
    "i = pd.Index([\"Karnataka\",\"Maharastra\",\"Gujarat\"])\n",
    "ser1 = pd.Series([1.2,3.4,1.1] , i ,name=\"population\")\n",
    "ser2 = pd.Series([\"Bengalure\",\"Mumbai\",\"Gandhinagar\"] , i ,name=\"capital\")\n",
    "df = pd.DataFrame([ser1,ser2])\n",
    "print(df)"
   ]
  },
  {
   "cell_type": "code",
   "execution_count": 76,
   "id": "6feb56b2",
   "metadata": {},
   "outputs": [
    {
     "name": "stdout",
     "output_type": "stream",
     "text": [
      "           population      capital\n",
      "Karnataka         1.2    Bengalure\n",
      "Maharastra        3.4       Mumbai\n",
      "Gujarat           1.1  Gandhinagar\n"
     ]
    }
   ],
   "source": [
    "#2.TRANSPOSE  METHOD\n",
    "import numpy as np\n",
    "import pandas as ps\n",
    "i = pd.Index([\"Karnataka\",\"Maharastra\",\"Gujarat\"])\n",
    "ser1 = pd.Series([1.2,3.4,1.1] , i ,name=\"population\")\n",
    "ser2 = pd.Series([\"Bengalure\",\"Mumbai\",\"Gandhinagar\"] , i ,name=\"capital\")\n",
    "df = pd.DataFrame([ser1,ser2]).T\n",
    "print(df)"
   ]
  },
  {
   "cell_type": "code",
   "execution_count": 89,
   "id": "aed7e90d",
   "metadata": {},
   "outputs": [
    {
     "name": "stdout",
     "output_type": "stream",
     "text": [
      "            population      capital\n",
      "Karnataka          1.2    Bengalure\n",
      "Maharastra         3.4       Mumbai\n",
      "Gujarat            1.1  Gandhinagar\n"
     ]
    }
   ],
   "source": [
    "#3.DICTIONARY  METHOD\n",
    "import numpy as np\n",
    "import pandas as ps\n",
    "i = pd.Index([\"Karnataka\",\"Maharastra\",\"Gujarat\"])\n",
    "ser1 = pd.Series([1.2,3.4,1.1] , i )\n",
    "ser2 = pd.Series([\"Bengalure\",\"Mumbai\",\"Gandhinagar\"] , i)\n",
    "df = pd.DataFrame({\"population\":ser1,\"capital\":ser2})\n",
    "print(df)"
   ]
  },
  {
   "cell_type": "code",
   "execution_count": 80,
   "id": "5ba7e422",
   "metadata": {},
   "outputs": [
    {
     "name": "stdout",
     "output_type": "stream",
     "text": [
      "            Population      Capital\n",
      "Karnataka          1.2    Bengalure\n",
      "Maharastara        2.0       Mumbai\n",
      "Gujarat            3.0  Gandhinagar\n"
     ]
    }
   ],
   "source": [
    "#4.2-D METHOD\n",
    "import numpy as np\n",
    "import pandas as ps\n",
    "#i = pd.Index([\"Karnataka\",\"Maharastra\",\"Gujarat\"])\n",
    "df = pd.Datadf = pd.DataFrame([[\"1.2\",\"Bengalure\"],[\"2.0\",\"Mumbai\"],[\"3.0\",\"Gandhinagar\"]] , index=[\"Karnataka\",\"Maharastara\",\"Gujarat\"] , columns=[\"Population\",\"Capital\"])\n",
    "print(df)"
   ]
  },
  {
   "cell_type": "markdown",
   "id": "2a036fd2",
   "metadata": {},
   "source": [
    "# HOW TO ADD NEW DATA TO A SERIES"
   ]
  },
  {
   "cell_type": "code",
   "execution_count": 83,
   "id": "00cfcc05",
   "metadata": {},
   "outputs": [
    {
     "name": "stdout",
     "output_type": "stream",
     "text": [
      "Karnataka     1.2\n",
      "Maharastra    3.0\n",
      "Gujarat       2.0\n",
      "TamilNadu     7.7\n",
      "dtype: float64\n"
     ]
    },
    {
     "name": "stderr",
     "output_type": "stream",
     "text": [
      "C:\\Users\\CS-L2-PC09\\AppData\\Local\\Temp\\ipykernel_9592\\2737838292.py:4: FutureWarning: The series.append method is deprecated and will be removed from pandas in a future version. Use pandas.concat instead.\n",
      "  print(pop.append(pd.Series({\"TamilNadu\":7.7})))\n"
     ]
    }
   ],
   "source": [
    "import numpy as np\n",
    "import pandas as pd\n",
    "pop = pd.Series([1.2,3.0,2.0] , i ,name=\"population\")\n",
    "print(pop.append(pd.Series({\"TamilNadu\":7.7})))"
   ]
  },
  {
   "cell_type": "markdown",
   "id": "8ba87490",
   "metadata": {},
   "source": [
    "METHOD 1"
   ]
  },
  {
   "cell_type": "code",
   "execution_count": 85,
   "id": "c1421a04",
   "metadata": {},
   "outputs": [
    {
     "name": "stdout",
     "output_type": "stream",
     "text": [
      "             Population      Capital\n",
      "Karnataka           1.2    Bengalure\n",
      "Maharastara         2.0       Mumbai\n",
      "Gujarat             3.0  Gandhinagar\n",
      "Tamil nadu          5.5      chennai\n",
      "Andrapradesh       12.5    hyderabad\n"
     ]
    },
    {
     "name": "stderr",
     "output_type": "stream",
     "text": [
      "C:\\Users\\CS-L2-PC09\\AppData\\Local\\Temp\\ipykernel_9592\\664069513.py:4: FutureWarning: The frame.append method is deprecated and will be removed from pandas in a future version. Use pandas.concat instead.\n",
      "  print(df.append(pd.DataFrame([[\"5.5\",\"chennai\"],[\"12.5\",\"hyderabad\"]] , index=[\"Tamil nadu\",\"Andrapradesh\"] , columns=[\"Population\",\"Capital\"])))\n"
     ]
    }
   ],
   "source": [
    "import numpy as np\n",
    "import pandas as pd\n",
    "df = pd.Datadf = pd.DataFrame([[\"1.2\",\"Bengalure\"],[\"2.0\",\"Mumbai\"],[\"3.0\",\"Gandhinagar\"]] , index=[\"Karnataka\",\"Maharastara\",\"Gujarat\"] , columns=[\"Population\",\"Capital\"])\n",
    "print(df.append(pd.DataFrame([[\"5.5\",\"chennai\"],[\"12.5\",\"hyderabad\"]] , index=[\"Tamil nadu\",\"Andrapradesh\"] , columns=[\"Population\",\"Capital\"])))"
   ]
  },
  {
   "cell_type": "markdown",
   "id": "659a9a3d",
   "metadata": {},
   "source": [
    "METHOD 2"
   ]
  },
  {
   "cell_type": "code",
   "execution_count": 93,
   "id": "c7156f30",
   "metadata": {},
   "outputs": [
    {
     "name": "stdout",
     "output_type": "stream",
     "text": [
      "              population      capital\n",
      "Karnataka            1.2    Bengalure\n",
      "Maharastra           3.4       Mumbai\n",
      "Gujarat              1.1  Gandhinagar\n",
      "Tamilnadu            5.5      channai\n",
      "Andrapradesh         7.6     hydrabad\n"
     ]
    },
    {
     "name": "stderr",
     "output_type": "stream",
     "text": [
      "C:\\Users\\CS-L2-PC09\\AppData\\Local\\Temp\\ipykernel_9592\\435301407.py:7: FutureWarning: The frame.append method is deprecated and will be removed from pandas in a future version. Use pandas.concat instead.\n",
      "  print(df.append(pd.DataFrame({\"population\":pd.Series({\"Tamilnadu\":5.5,\"Andrapradesh\":7.6}),\n"
     ]
    }
   ],
   "source": [
    "import numpy as np\n",
    "import pandas as ps\n",
    "i = pd.Index([\"Karnataka\",\"Maharastra\",\"Gujarat\"])\n",
    "pop = pd.Series([1.2,3.4,1.1] , i )\n",
    "cap = pd.Series([\"Bengalure\",\"Mumbai\",\"Gandhinagar\"] , i)\n",
    "df = pd.DataFrame({\"population\":pop,\"capital\":cap})\n",
    "print(df.append(pd.DataFrame({\"population\":pd.Series({\"Tamilnadu\":5.5,\"Andrapradesh\":7.6}),\n",
    "                             \"capital\":pd.Series({\"Tamilnadu\":\"channai\",\"Andrapradesh\":\"hydrabad\"})\n",
    "                             }\n",
    "                            )\n",
    "               )\n",
    "     )"
   ]
  },
  {
   "cell_type": "markdown",
   "id": "0e300056",
   "metadata": {},
   "source": [
    "# CONCAT NEW COLUMN TO DATAFRAME"
   ]
  },
  {
   "cell_type": "code",
   "execution_count": null,
   "id": "cd5b3775",
   "metadata": {},
   "outputs": [],
   "source": []
  }
 ],
 "metadata": {
  "kernelspec": {
   "display_name": "Python 3 (ipykernel)",
   "language": "python",
   "name": "python3"
  },
  "language_info": {
   "codemirror_mode": {
    "name": "ipython",
    "version": 3
   },
   "file_extension": ".py",
   "mimetype": "text/x-python",
   "name": "python",
   "nbconvert_exporter": "python",
   "pygments_lexer": "ipython3",
   "version": "3.9.12"
  }
 },
 "nbformat": 4,
 "nbformat_minor": 5
}
