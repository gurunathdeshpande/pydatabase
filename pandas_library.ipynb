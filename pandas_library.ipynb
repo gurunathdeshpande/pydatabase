{
 "cells": [
  {
   "cell_type": "markdown",
   "id": "2d7fa4ee",
   "metadata": {},
   "source": [
    "# PANDAS SERIES"
   ]
  },
  {
   "cell_type": "markdown",
   "id": "2aedd42b",
   "metadata": {},
   "source": [
    "Series is an 1D labeled array capable of holding data of any type(integer,float,python objects, etc).The axis labeled are collectivelly called as index"
   ]
  },
  {
   "cell_type": "markdown",
   "id": "d4e4d406",
   "metadata": {},
   "source": [
    "#syntax : pd.Series(data,index,dtype,copy)"
   ]
  },
  {
   "cell_type": "code",
   "execution_count": 2,
   "id": "dd053e73",
   "metadata": {},
   "outputs": [
    {
     "name": "stdout",
     "output_type": "stream",
     "text": [
      "0    1\n",
      "1    2\n",
      "2    3\n",
      "3    4\n",
      "4    5\n",
      "dtype: int64\n",
      "\n",
      "0    a\n",
      "1    b\n",
      "2    c\n",
      "3    d\n",
      "4    e\n",
      "dtype: object\n"
     ]
    }
   ],
   "source": [
    "import numpy as np\n",
    "import pandas as pd\n",
    "ser1 = pd.Series([1,2,3,4,5])\n",
    "print(ser1)\n",
    "print()\n",
    "ser2 = pd.Series(['a','b','c','d','e'])\n",
    "print(ser2)"
   ]
  },
  {
   "cell_type": "code",
   "execution_count": 3,
   "id": "f3d2025a",
   "metadata": {},
   "outputs": [
    {
     "name": "stdout",
     "output_type": "stream",
     "text": [
      "0    1.0\n",
      "1    2.0\n",
      "2    3.0\n",
      "3    4.0\n",
      "4    5.0\n",
      "dtype: float64\n"
     ]
    }
   ],
   "source": [
    "import numpy as np\n",
    "import pandas as pd\n",
    "ser1 = pd.Series([1,2,3,4,5] , dtype = np.float64)\n",
    "print(ser1)"
   ]
  },
  {
   "cell_type": "code",
   "execution_count": 7,
   "id": "9066087a",
   "metadata": {},
   "outputs": [
    {
     "name": "stdout",
     "output_type": "stream",
     "text": [
      "num1    1\n",
      "num2    2\n",
      "num3    3\n",
      "num4    4\n",
      "num5    5\n",
      "dtype: int64\n"
     ]
    }
   ],
   "source": [
    "import numpy as np\n",
    "import pandas as pd\n",
    "ser1 = pd.Series([1,2,3,4,5],index=[\"num1\",\"num2\",\"num3\",\"num4\",\"num5\"])\n",
    "print(ser1)"
   ]
  },
  {
   "cell_type": "code",
   "execution_count": 9,
   "id": "6e15981f",
   "metadata": {},
   "outputs": [
    {
     "name": "stdout",
     "output_type": "stream",
     "text": [
      "num1    1\n",
      "num2    2\n",
      "num3    3\n",
      "num4    4\n",
      "num5    5\n",
      "dtype: int64\n"
     ]
    }
   ],
   "source": [
    "import numpy as np\n",
    "import pandas as pd\n",
    "i = pd.Index([\"num1\",\"num2\",\"num3\",\"num4\",\"num5\"])\n",
    "ser1 = pd.Series([1,2,3,4,5],i)\n",
    "print(ser1)"
   ]
  },
  {
   "cell_type": "markdown",
   "id": "3bc68770",
   "metadata": {},
   "source": [
    "creating Series using dictionary method"
   ]
  },
  {
   "cell_type": "code",
   "execution_count": 10,
   "id": "0022dd76",
   "metadata": {},
   "outputs": [
    {
     "name": "stdout",
     "output_type": "stream",
     "text": [
      "Rohit      40\n",
      "KL         23\n",
      "Virat     100\n",
      "Panth      12\n",
      "Chahal      2\n",
      "dtype: int64\n"
     ]
    }
   ],
   "source": [
    "import numpy as np\n",
    "import pandas as pd\n",
    "ser1 = pd.Series({\"Rohit\":40,\"KL\":23,\"Virat\":100,\"Panth\":12,\"Chahal\":2})\n",
    "print(ser1)"
   ]
  },
  {
   "cell_type": "markdown",
   "id": "a33fa87b",
   "metadata": {},
   "source": [
    "#  PANDAS DATAFRAMES"
   ]
  },
  {
   "cell_type": "markdown",
   "id": "a51e6c6a",
   "metadata": {},
   "source": [
    "DataFrames is the collection of multiple Series\n",
    "\n",
    "* SYNTAX : pd.DataFrame(array , index ,columns)"
   ]
  },
  {
   "cell_type": "code",
   "execution_count": 4,
   "id": "4fabe17a",
   "metadata": {},
   "outputs": [
    {
     "name": "stdout",
     "output_type": "stream",
     "text": [
      "Numpy Array\n",
      "[[0 1 2]\n",
      " [3 4 5]\n",
      " [6 7 8]]\n",
      "\n",
      "Numpy DataFrame\n",
      "   A  B  C\n",
      "a  0  1  2\n",
      "b  3  4  5\n",
      "c  6  7  8\n"
     ]
    }
   ],
   "source": [
    "import numpy as np\n",
    "import pandas as pd\n",
    "arr = np.arange(0,9).reshape(3,3)\n",
    "print(\"Numpy Array\")\n",
    "print(arr)\n",
    "print()\n",
    "df = pd.DataFrame(arr , index=['a','b','c'], columns=['A','B','C'])\n",
    "print(\"Numpy DataFrame\")\n",
    "print(df)"
   ]
  },
  {
   "cell_type": "code",
   "execution_count": 21,
   "id": "955368f2",
   "metadata": {},
   "outputs": [
    {
     "name": "stdout",
     "output_type": "stream",
     "text": [
      "Numpy Array\n",
      "[[ 90  89  50 100]\n",
      " [ 78  90  77  89]\n",
      " [ 99  89  79  60]]\n",
      "\n",
      "Pandas DataFrame to store the marks of students in every subject\n",
      "--------------------------------\n",
      "          osa  python  java   se\n",
      "shridhar   90      89    50  100\n",
      "gururaj    78      90    77   89\n",
      "harshad    99      89    79   60\n"
     ]
    }
   ],
   "source": [
    "#Here single array stores marks of one student in every subject\n",
    "import numpy as np\n",
    "import pandas as pd\n",
    "arr = np.array([[90,89,50,100],[78,90,77,89],[99,89,79,60]])\n",
    "print(\"Numpy Array\")\n",
    "print(arr)\n",
    "print()\n",
    "df = pd.DataFrame(arr , index=['shridhar','gururaj','harshad'] , columns=['osa','python','java','se'])\n",
    "print(\"Pandas DataFrame to store the marks of students in every subject\")\n",
    "print(\"--------------------------------\")\n",
    "print(df)"
   ]
  },
  {
   "cell_type": "code",
   "execution_count": 73,
   "id": "447e2d6c",
   "metadata": {},
   "outputs": [
    {
     "name": "stdout",
     "output_type": "stream",
     "text": [
      "         osa  python  java   se\n",
      "Nihal     90      89    89   99\n",
      "Tanishk   78      90    60  100\n",
      "Ravi      99      87    99   78\n",
      "Arun      77      88   100   88\n"
     ]
    }
   ],
   "source": [
    "#Here single array stores marks of every students in one subject , it is possible when we are using dictionary method ,we can change this by using T method\n",
    "import numpy as np\n",
    "import pandas as pd\n",
    "df = pd.DataFrame({\"osa\":[90,78,99,77],\"python\":[89,90,87,88],\"java\":[89,60,99,100],\"se\":[99,100,78,88]} ,index=[\"Nihal\",\"Tanishk\",\"Ravi\",\"Arun\"])\n",
    "print(df) "
   ]
  },
  {
   "cell_type": "code",
   "execution_count": 62,
   "id": "add30fe5",
   "metadata": {},
   "outputs": [
    {
     "name": "stdout",
     "output_type": "stream",
     "text": [
      "   osa  java\n",
      "a    1     8\n",
      "b    2     7\n",
      "c    3     5\n",
      "d    7     4\n"
     ]
    }
   ],
   "source": [
    "import pandas as pd\n",
    "i = pd.Index([\"a\",\"b\",\"c\",\"d\"])\n",
    "#ser1 = pd.Series([1,2,3,2] ,index=i)\n",
    "#ser2 = pd.Series([8,9,5,8] ,index=i)\n",
    "#df = pd.DataFrame({\"osa\":ser1 , \"java\":ser2})\n",
    "df = pd.DataFrame([[1,8],[2,7],[3,5],[7,4]] , index=i , columns=[\"osa\" ,\"java\"])\n",
    "print(df)"
   ]
  },
  {
   "cell_type": "markdown",
   "id": "f9d6cfb9",
   "metadata": {},
   "source": [
    "# CREATE DATAFRAME CONTAINIMG INFORMATION ABOUT CITIES"
   ]
  },
  {
   "cell_type": "code",
   "execution_count": 71,
   "id": "cca5d232",
   "metadata": {},
   "outputs": [
    {
     "name": "stdout",
     "output_type": "stream",
     "text": [
      "            Population      Capital\n",
      "Karnataka          1.2    Bengalure\n",
      "Maharastara        2.0       Mumbai\n",
      "Gujarat            3.0  Gandhinagar\n"
     ]
    }
   ],
   "source": [
    "import numpy as np\n",
    "import pandas as pd\n",
    "i = pd.Index([\"Karnataka\",\"Maharastra\",\"Gujarat\"])\n",
    "#pop = pd.Series([1.2,3.0,2.0] , i)\n",
    "#cap = pd.Series([\"Bengalure\",\"Mumbai\",\"Gandhinagar\"] , i)\n",
    "#df = pd.DataFrame({\"population\":pop,\"capital\":cap})\n",
    "df = pd.Datadf = pd.DataFrame([[\"1.2\",\"Bengalure\"],[\"2.0\",\"Mumbai\"],[\"3.0\",\"Gandhinagar\"]] , index=[\"Karnataka\",\"Maharastara\",\"Gujarat\"] , columns=[\"Population\",\"Capital\"])\n",
    "#df = pd.DataFrame([[\"1.2\",\"Bengalure\"],[\"2.0\",\"Mumbai\"],[\"3.0\",\"Gandhinagar\"]] , index=[\"Karnataka\",\"Maharastara\",\"Gujarat\"] , columns=[\"Population\",\"Capital\"]).T\n",
    "print(df)\n",
    "# Here 'T' is transpos of matrix which converts rows to columns and vice versa"
   ]
  },
  {
   "cell_type": "markdown",
   "id": "e0097e03",
   "metadata": {},
   "source": [
    "Possibilities of creating DataFrame through multiple series\n",
    "\n",
    "1. Normal Series method\n",
    "\n",
    "2. Transpose method\n",
    "\n",
    "3. Dictionary method (key = Hedding , values = Series)(Don't need to give name in series)\n",
    "                                                      \n",
    "4. 2-D array method"
   ]
  },
  {
   "cell_type": "code",
   "execution_count": 75,
   "id": "ca7cc596",
   "metadata": {},
   "outputs": [
    {
     "name": "stdout",
     "output_type": "stream",
     "text": [
      "            Karnataka Maharastra      Gujarat\n",
      "population        1.2        3.4          1.1\n",
      "capital     Bengalure     Mumbai  Gandhinagar\n"
     ]
    }
   ],
   "source": [
    "#1.NORMAL SERIES METHOD\n",
    "import numpy as np\n",
    "import pandas as ps\n",
    "i = pd.Index([\"Karnataka\",\"Maharastra\",\"Gujarat\"])\n",
    "ser1 = pd.Series([1.2,3.4,1.1] , i ,name=\"population\")\n",
    "ser2 = pd.Series([\"Bengalure\",\"Mumbai\",\"Gandhinagar\"] , i ,name=\"capital\")\n",
    "df = pd.DataFrame([ser1,ser2])\n",
    "print(df)"
   ]
  },
  {
   "cell_type": "code",
   "execution_count": 76,
   "id": "6feb56b2",
   "metadata": {},
   "outputs": [
    {
     "name": "stdout",
     "output_type": "stream",
     "text": [
      "           population      capital\n",
      "Karnataka         1.2    Bengalure\n",
      "Maharastra        3.4       Mumbai\n",
      "Gujarat           1.1  Gandhinagar\n"
     ]
    }
   ],
   "source": [
    "#2.TRANSPOSE  METHOD\n",
    "import numpy as np\n",
    "import pandas as ps\n",
    "i = pd.Index([\"Karnataka\",\"Maharastra\",\"Gujarat\"])\n",
    "ser1 = pd.Series([1.2,3.4,1.1] , i ,name=\"population\")\n",
    "ser2 = pd.Series([\"Bengalure\",\"Mumbai\",\"Gandhinagar\"] , i ,name=\"capital\")\n",
    "df = pd.DataFrame([ser1,ser2]).T\n",
    "print(df)"
   ]
  },
  {
   "cell_type": "code",
   "execution_count": 89,
   "id": "aed7e90d",
   "metadata": {},
   "outputs": [
    {
     "name": "stdout",
     "output_type": "stream",
     "text": [
      "            population      capital\n",
      "Karnataka          1.2    Bengalure\n",
      "Maharastra         3.4       Mumbai\n",
      "Gujarat            1.1  Gandhinagar\n"
     ]
    }
   ],
   "source": [
    "#3.DICTIONARY  METHOD\n",
    "import numpy as np\n",
    "import pandas as ps\n",
    "i = pd.Index([\"Karnataka\",\"Maharastra\",\"Gujarat\"])\n",
    "ser1 = pd.Series([1.2,3.4,1.1] , i )\n",
    "ser2 = pd.Series([\"Bengalure\",\"Mumbai\",\"Gandhinagar\"] , i)\n",
    "df = pd.DataFrame({\"population\":ser1,\"capital\":ser2})\n",
    "print(df)"
   ]
  },
  {
   "cell_type": "code",
   "execution_count": 80,
   "id": "5ba7e422",
   "metadata": {},
   "outputs": [
    {
     "name": "stdout",
     "output_type": "stream",
     "text": [
      "            Population      Capital\n",
      "Karnataka          1.2    Bengalure\n",
      "Maharastara        2.0       Mumbai\n",
      "Gujarat            3.0  Gandhinagar\n"
     ]
    }
   ],
   "source": [
    "#4.2-D METHOD\n",
    "import numpy as np\n",
    "import pandas as ps\n",
    "#i = pd.Index([\"Karnataka\",\"Maharastra\",\"Gujarat\"])\n",
    "df = pd.Datadf = pd.DataFrame([[\"1.2\",\"Bengalure\"],[\"2.0\",\"Mumbai\"],[\"3.0\",\"Gandhinagar\"]] , index=[\"Karnataka\",\"Maharastara\",\"Gujarat\"] , columns=[\"Population\",\"Capital\"])\n",
    "print(df)"
   ]
  },
  {
   "cell_type": "markdown",
   "id": "2a036fd2",
   "metadata": {},
   "source": [
    "# HOW TO ADD NEW DATA TO A SERIES"
   ]
  },
  {
   "cell_type": "code",
   "execution_count": 83,
   "id": "00cfcc05",
   "metadata": {},
   "outputs": [
    {
     "name": "stdout",
     "output_type": "stream",
     "text": [
      "Karnataka     1.2\n",
      "Maharastra    3.0\n",
      "Gujarat       2.0\n",
      "TamilNadu     7.7\n",
      "dtype: float64\n"
     ]
    },
    {
     "name": "stderr",
     "output_type": "stream",
     "text": [
      "C:\\Users\\CS-L2-PC09\\AppData\\Local\\Temp\\ipykernel_9592\\2737838292.py:4: FutureWarning: The series.append method is deprecated and will be removed from pandas in a future version. Use pandas.concat instead.\n",
      "  print(pop.append(pd.Series({\"TamilNadu\":7.7})))\n"
     ]
    }
   ],
   "source": [
    "import numpy as np\n",
    "import pandas as pd\n",
    "pop = pd.Series([1.2,3.0,2.0] , i ,name=\"population\")\n",
    "print(pop.append(pd.Series({\"TamilNadu\":7.7})))"
   ]
  },
  {
   "cell_type": "markdown",
   "id": "8ba87490",
   "metadata": {},
   "source": [
    "METHOD 1"
   ]
  },
  {
   "cell_type": "code",
   "execution_count": 85,
   "id": "c1421a04",
   "metadata": {},
   "outputs": [
    {
     "name": "stdout",
     "output_type": "stream",
     "text": [
      "             Population      Capital\n",
      "Karnataka           1.2    Bengalure\n",
      "Maharastara         2.0       Mumbai\n",
      "Gujarat             3.0  Gandhinagar\n",
      "Tamil nadu          5.5      chennai\n",
      "Andrapradesh       12.5    hyderabad\n"
     ]
    },
    {
     "name": "stderr",
     "output_type": "stream",
     "text": [
      "C:\\Users\\CS-L2-PC09\\AppData\\Local\\Temp\\ipykernel_9592\\664069513.py:4: FutureWarning: The frame.append method is deprecated and will be removed from pandas in a future version. Use pandas.concat instead.\n",
      "  print(df.append(pd.DataFrame([[\"5.5\",\"chennai\"],[\"12.5\",\"hyderabad\"]] , index=[\"Tamil nadu\",\"Andrapradesh\"] , columns=[\"Population\",\"Capital\"])))\n"
     ]
    }
   ],
   "source": [
    "import numpy as np\n",
    "import pandas as pd\n",
    "df = pd.Datadf = pd.DataFrame([[\"1.2\",\"Bengalure\"],[\"2.0\",\"Mumbai\"],[\"3.0\",\"Gandhinagar\"]] , index=[\"Karnataka\",\"Maharastara\",\"Gujarat\"] , columns=[\"Population\",\"Capital\"])\n",
    "print(df.append(pd.DataFrame([[\"5.5\",\"chennai\"],[\"12.5\",\"hyderabad\"]] , index=[\"Tamil nadu\",\"Andrapradesh\"] , columns=[\"Population\",\"Capital\"])))"
   ]
  },
  {
   "cell_type": "markdown",
   "id": "659a9a3d",
   "metadata": {},
   "source": [
    "METHOD 2"
   ]
  },
  {
   "cell_type": "code",
   "execution_count": 93,
   "id": "c7156f30",
   "metadata": {},
   "outputs": [
    {
     "name": "stdout",
     "output_type": "stream",
     "text": [
      "              population      capital\n",
      "Karnataka            1.2    Bengalure\n",
      "Maharastra           3.4       Mumbai\n",
      "Gujarat              1.1  Gandhinagar\n",
      "Tamilnadu            5.5      channai\n",
      "Andrapradesh         7.6     hydrabad\n"
     ]
    },
    {
     "name": "stderr",
     "output_type": "stream",
     "text": [
      "C:\\Users\\CS-L2-PC09\\AppData\\Local\\Temp\\ipykernel_9592\\435301407.py:7: FutureWarning: The frame.append method is deprecated and will be removed from pandas in a future version. Use pandas.concat instead.\n",
      "  print(df.append(pd.DataFrame({\"population\":pd.Series({\"Tamilnadu\":5.5,\"Andrapradesh\":7.6}),\n"
     ]
    }
   ],
   "source": [
    "import numpy as np\n",
    "import pandas as ps\n",
    "i = pd.Index([\"Karnataka\",\"Maharastra\",\"Gujarat\"])\n",
    "pop = pd.Series([1.2,3.4,1.1] , i )\n",
    "cap = pd.Series([\"Bengalure\",\"Mumbai\",\"Gandhinagar\"] , i)\n",
    "df = pd.DataFrame({\"population\":pop,\"capital\":cap})\n",
    "print(df.append(pd.DataFrame({\"population\":pd.Series({\"Tamilnadu\":5.5,\"Andrapradesh\":7.6}),\n",
    "                             \"capital\":pd.Series({\"Tamilnadu\":\"channai\",\"Andrapradesh\":\"hydrabad\"})\n",
    "                             }\n",
    "                            )\n",
    "               )\n",
    "     )"
   ]
  },
  {
   "cell_type": "markdown",
   "id": "0e300056",
   "metadata": {},
   "source": [
    "# CONCAT NEW COLUMN TO DATAFRAME"
   ]
  },
  {
   "cell_type": "code",
   "execution_count": 14,
   "id": "cd5b3775",
   "metadata": {
    "scrolled": true
   },
   "outputs": [
    {
     "data": {
      "text/html": [
       "<div>\n",
       "<style scoped>\n",
       "    .dataframe tbody tr th:only-of-type {\n",
       "        vertical-align: middle;\n",
       "    }\n",
       "\n",
       "    .dataframe tbody tr th {\n",
       "        vertical-align: top;\n",
       "    }\n",
       "\n",
       "    .dataframe thead th {\n",
       "        text-align: right;\n",
       "    }\n",
       "</style>\n",
       "<table border=\"1\" class=\"dataframe\">\n",
       "  <thead>\n",
       "    <tr style=\"text-align: right;\">\n",
       "      <th></th>\n",
       "      <th>population</th>\n",
       "      <th>capital</th>\n",
       "      <th>Area</th>\n",
       "      <th>CM</th>\n",
       "    </tr>\n",
       "  </thead>\n",
       "  <tbody>\n",
       "    <tr>\n",
       "      <th>Karnataka</th>\n",
       "      <td>4.9</td>\n",
       "      <td>Bengalure</td>\n",
       "      <td>2.1</td>\n",
       "      <td>Bomai</td>\n",
       "    </tr>\n",
       "    <tr>\n",
       "      <th>Maharastra</th>\n",
       "      <td>9.0</td>\n",
       "      <td>Mumbai</td>\n",
       "      <td>3.2</td>\n",
       "      <td>Shinde</td>\n",
       "    </tr>\n",
       "    <tr>\n",
       "      <th>Gujarat</th>\n",
       "      <td>8.9</td>\n",
       "      <td>Gandhinagar</td>\n",
       "      <td>5.5</td>\n",
       "      <td>xyz</td>\n",
       "    </tr>\n",
       "  </tbody>\n",
       "</table>\n",
       "</div>"
      ],
      "text/plain": [
       "           population      capital Area      CM\n",
       "Karnataka         4.9    Bengalure  2.1   Bomai\n",
       "Maharastra        9.0       Mumbai  3.2  Shinde\n",
       "Gujarat           8.9  Gandhinagar  5.5     xyz"
      ]
     },
     "execution_count": 14,
     "metadata": {},
     "output_type": "execute_result"
    }
   ],
   "source": [
    "import numpy as np\n",
    "import pandas as pd\n",
    "i = pd.Index([\"Karnataka\",\"Maharastra\",\"Gujarat\"])\n",
    "pop = pd.Series([\"4.9\",\"9.0\",\"8.9\"] , index=i ,name=\"population\")\n",
    "cap = pd.Series([\"Bengalure\",\"Mumbai\",\"Gandhinagar\"] , index=i ,name=\"capital\")\n",
    "df = pd.DataFrame({\"population\":pop,\"capital\":cap})\n",
    "#print(df)\n",
    "df1 = pd.concat(\n",
    "               [df , pd.DataFrame({\n",
    "                                 \"Area\":pd.Series([\"2.1\",\"3.2\",\"5.5\"],index=i),\n",
    "                                 \"CM\" :pd.Series([\"Bomai\",\"Shinde\",\"xyz\"],index=i)\n",
    "    \n",
    "               })\n",
    "               ] , axis=1\n",
    "                )\n",
    "df1.to_csv(\"cities_csv\")\n",
    "df1"
   ]
  },
  {
   "cell_type": "markdown",
   "id": "62681704",
   "metadata": {},
   "source": [
    "# PANDAS SUBSETTING"
   ]
  },
  {
   "cell_type": "code",
   "execution_count": 57,
   "id": "56733aa3",
   "metadata": {},
   "outputs": [
    {
     "name": "stdout",
     "output_type": "stream",
     "text": [
      "alpha      0\n",
      "beta       1\n",
      "gama       2\n",
      "delta      3\n",
      "epsilon    4\n",
      "dtype: int32\n"
     ]
    }
   ],
   "source": [
    "import numpy as np\n",
    "import pandas as pd\n",
    "from pandas import Series , DataFrame\n",
    "ser1 = Series(np.arange(5),index=[\"alpha\",\"beta\",\"gama\",\"delta\",\"epsilon\"])\n",
    "print(ser1)"
   ]
  },
  {
   "cell_type": "code",
   "execution_count": 23,
   "id": "b49052f8",
   "metadata": {},
   "outputs": [
    {
     "data": {
      "text/plain": [
       "alpha    0\n",
       "beta     1\n",
       "dtype: int32"
      ]
     },
     "execution_count": 23,
     "metadata": {},
     "output_type": "execute_result"
    }
   ],
   "source": [
    "ser1[:2]"
   ]
  },
  {
   "cell_type": "code",
   "execution_count": 24,
   "id": "35108f49",
   "metadata": {},
   "outputs": [
    {
     "data": {
      "text/plain": [
       "beta     1\n",
       "delta    3\n",
       "dtype: int32"
      ]
     },
     "execution_count": 24,
     "metadata": {},
     "output_type": "execute_result"
    }
   ],
   "source": [
    "ser1[[\"beta\",\"delta\"]]"
   ]
  },
  {
   "cell_type": "code",
   "execution_count": 25,
   "id": "3f030b16",
   "metadata": {},
   "outputs": [
    {
     "data": {
      "text/plain": [
       "beta     1\n",
       "gama     2\n",
       "delta    3\n",
       "dtype: int32"
      ]
     },
     "execution_count": 25,
     "metadata": {},
     "output_type": "execute_result"
    }
   ],
   "source": [
    "ser1[\"beta\":\"delta\"]"
   ]
  },
  {
   "cell_type": "code",
   "execution_count": 29,
   "id": "6f7fbd27",
   "metadata": {},
   "outputs": [
    {
     "data": {
      "text/plain": [
       "elipson    4\n",
       "dtype: int32"
      ]
     },
     "execution_count": 29,
     "metadata": {},
     "output_type": "execute_result"
    }
   ],
   "source": [
    "ser1[ser1 > 3]"
   ]
  },
  {
   "cell_type": "code",
   "execution_count": 31,
   "id": "5715726c",
   "metadata": {},
   "outputs": [
    {
     "name": "stdout",
     "output_type": "stream",
     "text": [
      "alpha      False\n",
      "beta       False\n",
      "gama       False\n",
      "delta      False\n",
      "elipson     True\n",
      "dtype: bool\n"
     ]
    }
   ],
   "source": [
    "print(ser1 > 3)"
   ]
  },
  {
   "cell_type": "code",
   "execution_count": 32,
   "id": "d351be11",
   "metadata": {},
   "outputs": [
    {
     "name": "stdout",
     "output_type": "stream",
     "text": [
      "3     zero\n",
      "2      one\n",
      "4      two\n",
      "0    three\n",
      "1     four\n",
      "dtype: object\n"
     ]
    }
   ],
   "source": [
    "import numpy as np\n",
    "import pandas as pd\n",
    "from pandas import Series,DataFrame\n",
    "ser2 = Series([\"zero\",\"one\",\"two\",\"three\",\"four\"], index=[3,2,4,0,1])\n",
    "print(ser2)"
   ]
  },
  {
   "cell_type": "code",
   "execution_count": 33,
   "id": "5432e8e6",
   "metadata": {},
   "outputs": [
    {
     "data": {
      "text/plain": [
       "4      two\n",
       "0    three\n",
       "dtype: object"
      ]
     },
     "execution_count": 33,
     "metadata": {},
     "output_type": "execute_result"
    }
   ],
   "source": [
    "ser2[2:4]     #Ambigious , it uses defalt indexing"
   ]
  },
  {
   "cell_type": "code",
   "execution_count": 34,
   "id": "f5f039f3",
   "metadata": {},
   "outputs": [
    {
     "data": {
      "text/plain": [
       "4      two\n",
       "0    three\n",
       "dtype: object"
      ]
     },
     "execution_count": 34,
     "metadata": {},
     "output_type": "execute_result"
    }
   ],
   "source": [
    "ser2.iloc[2:4]     #uses default indexing"
   ]
  },
  {
   "cell_type": "code",
   "execution_count": 35,
   "id": "fa462ea2",
   "metadata": {},
   "outputs": [
    {
     "data": {
      "text/plain": [
       "2    one\n",
       "4    two\n",
       "dtype: object"
      ]
     },
     "execution_count": 35,
     "metadata": {},
     "output_type": "execute_result"
    }
   ],
   "source": [
    "ser2.loc[2:4]   #uses series indexing"
   ]
  },
  {
   "cell_type": "code",
   "execution_count": 37,
   "id": "46318647",
   "metadata": {},
   "outputs": [
    {
     "data": {
      "text/html": [
       "<div>\n",
       "<style scoped>\n",
       "    .dataframe tbody tr th:only-of-type {\n",
       "        vertical-align: middle;\n",
       "    }\n",
       "\n",
       "    .dataframe tbody tr th {\n",
       "        vertical-align: top;\n",
       "    }\n",
       "\n",
       "    .dataframe thead th {\n",
       "        text-align: right;\n",
       "    }\n",
       "</style>\n",
       "<table border=\"1\" class=\"dataframe\">\n",
       "  <thead>\n",
       "    <tr style=\"text-align: right;\">\n",
       "      <th></th>\n",
       "      <th>AAA</th>\n",
       "      <th>BBB</th>\n",
       "      <th>CCC</th>\n",
       "    </tr>\n",
       "  </thead>\n",
       "  <tbody>\n",
       "    <tr>\n",
       "      <th>alpha</th>\n",
       "      <td>0</td>\n",
       "      <td>1</td>\n",
       "      <td>2</td>\n",
       "    </tr>\n",
       "    <tr>\n",
       "      <th>beta</th>\n",
       "      <td>3</td>\n",
       "      <td>4</td>\n",
       "      <td>5</td>\n",
       "    </tr>\n",
       "    <tr>\n",
       "      <th>gama</th>\n",
       "      <td>6</td>\n",
       "      <td>7</td>\n",
       "      <td>8</td>\n",
       "    </tr>\n",
       "    <tr>\n",
       "      <th>delta</th>\n",
       "      <td>9</td>\n",
       "      <td>10</td>\n",
       "      <td>11</td>\n",
       "    </tr>\n",
       "    <tr>\n",
       "      <th>epsilon</th>\n",
       "      <td>12</td>\n",
       "      <td>13</td>\n",
       "      <td>14</td>\n",
       "    </tr>\n",
       "    <tr>\n",
       "      <th>zeta</th>\n",
       "      <td>15</td>\n",
       "      <td>16</td>\n",
       "      <td>17</td>\n",
       "    </tr>\n",
       "    <tr>\n",
       "      <th>eta</th>\n",
       "      <td>18</td>\n",
       "      <td>19</td>\n",
       "      <td>20</td>\n",
       "    </tr>\n",
       "  </tbody>\n",
       "</table>\n",
       "</div>"
      ],
      "text/plain": [
       "         AAA  BBB  CCC\n",
       "alpha      0    1    2\n",
       "beta       3    4    5\n",
       "gama       6    7    8\n",
       "delta      9   10   11\n",
       "epsilon   12   13   14\n",
       "zeta      15   16   17\n",
       "eta       18   19   20"
      ]
     },
     "execution_count": 37,
     "metadata": {},
     "output_type": "execute_result"
    }
   ],
   "source": [
    "import numpy as np\n",
    "import pandas as pd\n",
    "from pandas import Series, DataFrame\n",
    "df = DataFrame(np.arange(21).reshape(7,3), columns=['AAA','BBB','CCC'], index=[\"alpha\",\"beta\",\"gama\",\"delta\",\"epsilon\",\"zeta\",\"eta\"])\n",
    "df"
   ]
  },
  {
   "cell_type": "code",
   "execution_count": 38,
   "id": "605fd176",
   "metadata": {},
   "outputs": [
    {
     "data": {
      "text/plain": [
       "alpha       0\n",
       "beta        3\n",
       "gama        6\n",
       "delta       9\n",
       "epsilon    12\n",
       "zeta       15\n",
       "eta        18\n",
       "Name: AAA, dtype: int32"
      ]
     },
     "execution_count": 38,
     "metadata": {},
     "output_type": "execute_result"
    }
   ],
   "source": [
    "df.AAA"
   ]
  },
  {
   "cell_type": "code",
   "execution_count": 40,
   "id": "f663d219",
   "metadata": {},
   "outputs": [
    {
     "data": {
      "text/plain": [
       "alpha       0\n",
       "beta        3\n",
       "gama        6\n",
       "delta       9\n",
       "epsilon    12\n",
       "zeta       15\n",
       "eta        18\n",
       "Name: AAA, dtype: int32"
      ]
     },
     "execution_count": 40,
     "metadata": {},
     "output_type": "execute_result"
    }
   ],
   "source": [
    "df[\"AAA\"]"
   ]
  },
  {
   "cell_type": "code",
   "execution_count": 42,
   "id": "4e5865ae",
   "metadata": {},
   "outputs": [
    {
     "data": {
      "text/html": [
       "<div>\n",
       "<style scoped>\n",
       "    .dataframe tbody tr th:only-of-type {\n",
       "        vertical-align: middle;\n",
       "    }\n",
       "\n",
       "    .dataframe tbody tr th {\n",
       "        vertical-align: top;\n",
       "    }\n",
       "\n",
       "    .dataframe thead th {\n",
       "        text-align: right;\n",
       "    }\n",
       "</style>\n",
       "<table border=\"1\" class=\"dataframe\">\n",
       "  <thead>\n",
       "    <tr style=\"text-align: right;\">\n",
       "      <th></th>\n",
       "      <th>BBB</th>\n",
       "      <th>CCC</th>\n",
       "    </tr>\n",
       "  </thead>\n",
       "  <tbody>\n",
       "    <tr>\n",
       "      <th>alpha</th>\n",
       "      <td>1</td>\n",
       "      <td>2</td>\n",
       "    </tr>\n",
       "    <tr>\n",
       "      <th>beta</th>\n",
       "      <td>4</td>\n",
       "      <td>5</td>\n",
       "    </tr>\n",
       "    <tr>\n",
       "      <th>gama</th>\n",
       "      <td>7</td>\n",
       "      <td>8</td>\n",
       "    </tr>\n",
       "    <tr>\n",
       "      <th>delta</th>\n",
       "      <td>10</td>\n",
       "      <td>11</td>\n",
       "    </tr>\n",
       "    <tr>\n",
       "      <th>epsilon</th>\n",
       "      <td>13</td>\n",
       "      <td>14</td>\n",
       "    </tr>\n",
       "    <tr>\n",
       "      <th>zeta</th>\n",
       "      <td>16</td>\n",
       "      <td>17</td>\n",
       "    </tr>\n",
       "    <tr>\n",
       "      <th>eta</th>\n",
       "      <td>19</td>\n",
       "      <td>20</td>\n",
       "    </tr>\n",
       "  </tbody>\n",
       "</table>\n",
       "</div>"
      ],
      "text/plain": [
       "         BBB  CCC\n",
       "alpha      1    2\n",
       "beta       4    5\n",
       "gama       7    8\n",
       "delta     10   11\n",
       "epsilon   13   14\n",
       "zeta      16   17\n",
       "eta       19   20"
      ]
     },
     "execution_count": 42,
     "metadata": {},
     "output_type": "execute_result"
    }
   ],
   "source": [
    "df[[\"BBB\",\"CCC\"]]"
   ]
  },
  {
   "cell_type": "code",
   "execution_count": 45,
   "id": "a1998600",
   "metadata": {},
   "outputs": [
    {
     "data": {
      "text/html": [
       "<div>\n",
       "<style scoped>\n",
       "    .dataframe tbody tr th:only-of-type {\n",
       "        vertical-align: middle;\n",
       "    }\n",
       "\n",
       "    .dataframe tbody tr th {\n",
       "        vertical-align: top;\n",
       "    }\n",
       "\n",
       "    .dataframe thead th {\n",
       "        text-align: right;\n",
       "    }\n",
       "</style>\n",
       "<table border=\"1\" class=\"dataframe\">\n",
       "  <thead>\n",
       "    <tr style=\"text-align: right;\">\n",
       "      <th></th>\n",
       "      <th>BBB</th>\n",
       "    </tr>\n",
       "  </thead>\n",
       "  <tbody>\n",
       "    <tr>\n",
       "      <th>beta</th>\n",
       "      <td>4</td>\n",
       "    </tr>\n",
       "    <tr>\n",
       "      <th>gama</th>\n",
       "      <td>7</td>\n",
       "    </tr>\n",
       "  </tbody>\n",
       "</table>\n",
       "</div>"
      ],
      "text/plain": [
       "      BBB\n",
       "beta    4\n",
       "gama    7"
      ]
     },
     "execution_count": 45,
     "metadata": {},
     "output_type": "execute_result"
    }
   ],
   "source": [
    "df.iloc[1:3, 1:2]  # SYNTSX : df.iloc[ row , column ]"
   ]
  },
  {
   "cell_type": "code",
   "execution_count": 50,
   "id": "07257d18",
   "metadata": {},
   "outputs": [
    {
     "data": {
      "text/html": [
       "<div>\n",
       "<style scoped>\n",
       "    .dataframe tbody tr th:only-of-type {\n",
       "        vertical-align: middle;\n",
       "    }\n",
       "\n",
       "    .dataframe tbody tr th {\n",
       "        vertical-align: top;\n",
       "    }\n",
       "\n",
       "    .dataframe thead th {\n",
       "        text-align: right;\n",
       "    }\n",
       "</style>\n",
       "<table border=\"1\" class=\"dataframe\">\n",
       "  <thead>\n",
       "    <tr style=\"text-align: right;\">\n",
       "      <th></th>\n",
       "      <th>BBB</th>\n",
       "      <th>CCC</th>\n",
       "    </tr>\n",
       "  </thead>\n",
       "  <tbody>\n",
       "    <tr>\n",
       "      <th>beta</th>\n",
       "      <td>4</td>\n",
       "      <td>5</td>\n",
       "    </tr>\n",
       "    <tr>\n",
       "      <th>gama</th>\n",
       "      <td>7</td>\n",
       "      <td>8</td>\n",
       "    </tr>\n",
       "    <tr>\n",
       "      <th>delta</th>\n",
       "      <td>10</td>\n",
       "      <td>11</td>\n",
       "    </tr>\n",
       "  </tbody>\n",
       "</table>\n",
       "</div>"
      ],
      "text/plain": [
       "       BBB  CCC\n",
       "beta     4    5\n",
       "gama     7    8\n",
       "delta   10   11"
      ]
     },
     "execution_count": 50,
     "metadata": {},
     "output_type": "execute_result"
    }
   ],
   "source": [
    "df.loc['beta':'delta', 'BBB':'CCC']"
   ]
  },
  {
   "cell_type": "code",
   "execution_count": 51,
   "id": "41b9dc6e",
   "metadata": {},
   "outputs": [
    {
     "data": {
      "text/html": [
       "<div>\n",
       "<style scoped>\n",
       "    .dataframe tbody tr th:only-of-type {\n",
       "        vertical-align: middle;\n",
       "    }\n",
       "\n",
       "    .dataframe tbody tr th {\n",
       "        vertical-align: top;\n",
       "    }\n",
       "\n",
       "    .dataframe thead th {\n",
       "        text-align: right;\n",
       "    }\n",
       "</style>\n",
       "<table border=\"1\" class=\"dataframe\">\n",
       "  <thead>\n",
       "    <tr style=\"text-align: right;\">\n",
       "      <th></th>\n",
       "      <th>BBB</th>\n",
       "      <th>CCC</th>\n",
       "    </tr>\n",
       "  </thead>\n",
       "  <tbody>\n",
       "    <tr>\n",
       "      <th>alpha</th>\n",
       "      <td>1</td>\n",
       "      <td>2</td>\n",
       "    </tr>\n",
       "    <tr>\n",
       "      <th>beta</th>\n",
       "      <td>4</td>\n",
       "      <td>5</td>\n",
       "    </tr>\n",
       "    <tr>\n",
       "      <th>gama</th>\n",
       "      <td>7</td>\n",
       "      <td>8</td>\n",
       "    </tr>\n",
       "    <tr>\n",
       "      <th>delta</th>\n",
       "      <td>10</td>\n",
       "      <td>11</td>\n",
       "    </tr>\n",
       "    <tr>\n",
       "      <th>epsilon</th>\n",
       "      <td>13</td>\n",
       "      <td>14</td>\n",
       "    </tr>\n",
       "    <tr>\n",
       "      <th>zeta</th>\n",
       "      <td>16</td>\n",
       "      <td>17</td>\n",
       "    </tr>\n",
       "    <tr>\n",
       "      <th>eta</th>\n",
       "      <td>19</td>\n",
       "      <td>20</td>\n",
       "    </tr>\n",
       "  </tbody>\n",
       "</table>\n",
       "</div>"
      ],
      "text/plain": [
       "         BBB  CCC\n",
       "alpha      1    2\n",
       "beta       4    5\n",
       "gama       7    8\n",
       "delta     10   11\n",
       "epsilon   13   14\n",
       "zeta      16   17\n",
       "eta       19   20"
      ]
     },
     "execution_count": 51,
     "metadata": {},
     "output_type": "execute_result"
    }
   ],
   "source": [
    "df.iloc[:, 1:3]"
   ]
  },
  {
   "cell_type": "code",
   "execution_count": 52,
   "id": "3c38bf5f",
   "metadata": {},
   "outputs": [
    {
     "data": {
      "text/html": [
       "<div>\n",
       "<style scoped>\n",
       "    .dataframe tbody tr th:only-of-type {\n",
       "        vertical-align: middle;\n",
       "    }\n",
       "\n",
       "    .dataframe tbody tr th {\n",
       "        vertical-align: top;\n",
       "    }\n",
       "\n",
       "    .dataframe thead th {\n",
       "        text-align: right;\n",
       "    }\n",
       "</style>\n",
       "<table border=\"1\" class=\"dataframe\">\n",
       "  <thead>\n",
       "    <tr style=\"text-align: right;\">\n",
       "      <th></th>\n",
       "      <th>BBB</th>\n",
       "      <th>CCC</th>\n",
       "    </tr>\n",
       "  </thead>\n",
       "  <tbody>\n",
       "    <tr>\n",
       "      <th>alpha</th>\n",
       "      <td>1</td>\n",
       "      <td>2</td>\n",
       "    </tr>\n",
       "    <tr>\n",
       "      <th>gama</th>\n",
       "      <td>7</td>\n",
       "      <td>8</td>\n",
       "    </tr>\n",
       "    <tr>\n",
       "      <th>zeta</th>\n",
       "      <td>16</td>\n",
       "      <td>17</td>\n",
       "    </tr>\n",
       "  </tbody>\n",
       "</table>\n",
       "</div>"
      ],
      "text/plain": [
       "       BBB  CCC\n",
       "alpha    1    2\n",
       "gama     7    8\n",
       "zeta    16   17"
      ]
     },
     "execution_count": 52,
     "metadata": {},
     "output_type": "execute_result"
    }
   ],
   "source": [
    "df.iloc[:, 1:3].loc[['alpha', 'gama', 'zeta']]"
   ]
  },
  {
   "cell_type": "code",
   "execution_count": 53,
   "id": "63a6780d",
   "metadata": {},
   "outputs": [
    {
     "data": {
      "text/html": [
       "<div>\n",
       "<style scoped>\n",
       "    .dataframe tbody tr th:only-of-type {\n",
       "        vertical-align: middle;\n",
       "    }\n",
       "\n",
       "    .dataframe tbody tr th {\n",
       "        vertical-align: top;\n",
       "    }\n",
       "\n",
       "    .dataframe thead th {\n",
       "        text-align: right;\n",
       "    }\n",
       "</style>\n",
       "<table border=\"1\" class=\"dataframe\">\n",
       "  <thead>\n",
       "    <tr style=\"text-align: right;\">\n",
       "      <th></th>\n",
       "      <th>BBB</th>\n",
       "      <th>CCC</th>\n",
       "    </tr>\n",
       "  </thead>\n",
       "  <tbody>\n",
       "    <tr>\n",
       "      <th>alpha</th>\n",
       "      <td>1</td>\n",
       "      <td>2</td>\n",
       "    </tr>\n",
       "    <tr>\n",
       "      <th>gama</th>\n",
       "      <td>7</td>\n",
       "      <td>8</td>\n",
       "    </tr>\n",
       "    <tr>\n",
       "      <th>zeta</th>\n",
       "      <td>16</td>\n",
       "      <td>17</td>\n",
       "    </tr>\n",
       "  </tbody>\n",
       "</table>\n",
       "</div>"
      ],
      "text/plain": [
       "       BBB  CCC\n",
       "alpha    1    2\n",
       "gama     7    8\n",
       "zeta    16   17"
      ]
     },
     "execution_count": 53,
     "metadata": {},
     "output_type": "execute_result"
    }
   ],
   "source": [
    "df2 = df.iloc[:, 1:3].loc[['alpha', 'gama', 'zeta']].copy()\n",
    "df2"
   ]
  },
  {
   "cell_type": "code",
   "execution_count": 54,
   "id": "0a0b67eb",
   "metadata": {},
   "outputs": [
    {
     "data": {
      "text/html": [
       "<div>\n",
       "<style scoped>\n",
       "    .dataframe tbody tr th:only-of-type {\n",
       "        vertical-align: middle;\n",
       "    }\n",
       "\n",
       "    .dataframe tbody tr th {\n",
       "        vertical-align: top;\n",
       "    }\n",
       "\n",
       "    .dataframe thead th {\n",
       "        text-align: right;\n",
       "    }\n",
       "</style>\n",
       "<table border=\"1\" class=\"dataframe\">\n",
       "  <thead>\n",
       "    <tr style=\"text-align: right;\">\n",
       "      <th></th>\n",
       "      <th>BBB</th>\n",
       "      <th>CCC</th>\n",
       "    </tr>\n",
       "  </thead>\n",
       "  <tbody>\n",
       "    <tr>\n",
       "      <th>alpha</th>\n",
       "      <td>1</td>\n",
       "      <td>11</td>\n",
       "    </tr>\n",
       "    <tr>\n",
       "      <th>gama</th>\n",
       "      <td>7</td>\n",
       "      <td>18</td>\n",
       "    </tr>\n",
       "    <tr>\n",
       "      <th>zeta</th>\n",
       "      <td>16</td>\n",
       "      <td>5</td>\n",
       "    </tr>\n",
       "  </tbody>\n",
       "</table>\n",
       "</div>"
      ],
      "text/plain": [
       "       BBB  CCC\n",
       "alpha    1   11\n",
       "gama     7   18\n",
       "zeta    16    5"
      ]
     },
     "execution_count": 54,
     "metadata": {},
     "output_type": "execute_result"
    }
   ],
   "source": [
    "df2['CCC'] = Series({'alpha':11, 'gama':18, 'zeta':5})\n",
    "df2"
   ]
  },
  {
   "cell_type": "code",
   "execution_count": 55,
   "id": "99cb3598",
   "metadata": {},
   "outputs": [
    {
     "data": {
      "text/html": [
       "<div>\n",
       "<style scoped>\n",
       "    .dataframe tbody tr th:only-of-type {\n",
       "        vertical-align: middle;\n",
       "    }\n",
       "\n",
       "    .dataframe tbody tr th {\n",
       "        vertical-align: top;\n",
       "    }\n",
       "\n",
       "    .dataframe thead th {\n",
       "        text-align: right;\n",
       "    }\n",
       "</style>\n",
       "<table border=\"1\" class=\"dataframe\">\n",
       "  <thead>\n",
       "    <tr style=\"text-align: right;\">\n",
       "      <th></th>\n",
       "      <th>BBB</th>\n",
       "      <th>CCC</th>\n",
       "    </tr>\n",
       "  </thead>\n",
       "  <tbody>\n",
       "    <tr>\n",
       "      <th>alpha</th>\n",
       "      <td>1</td>\n",
       "      <td>11</td>\n",
       "    </tr>\n",
       "    <tr>\n",
       "      <th>gama</th>\n",
       "      <td>7</td>\n",
       "      <td>2</td>\n",
       "    </tr>\n",
       "    <tr>\n",
       "      <th>zeta</th>\n",
       "      <td>16</td>\n",
       "      <td>5</td>\n",
       "    </tr>\n",
       "  </tbody>\n",
       "</table>\n",
       "</div>"
      ],
      "text/plain": [
       "       BBB  CCC\n",
       "alpha    1   11\n",
       "gama     7    2\n",
       "zeta    16    5"
      ]
     },
     "execution_count": 55,
     "metadata": {},
     "output_type": "execute_result"
    }
   ],
   "source": [
    "df2.iloc[1, 1] = 2\n",
    "df2"
   ]
  },
  {
   "cell_type": "code",
   "execution_count": 58,
   "id": "04f8ab28",
   "metadata": {},
   "outputs": [
    {
     "data": {
      "text/html": [
       "<div>\n",
       "<style scoped>\n",
       "    .dataframe tbody tr th:only-of-type {\n",
       "        vertical-align: middle;\n",
       "    }\n",
       "\n",
       "    .dataframe tbody tr th {\n",
       "        vertical-align: top;\n",
       "    }\n",
       "\n",
       "    .dataframe thead th {\n",
       "        text-align: right;\n",
       "    }\n",
       "</style>\n",
       "<table border=\"1\" class=\"dataframe\">\n",
       "  <thead>\n",
       "    <tr style=\"text-align: right;\">\n",
       "      <th></th>\n",
       "      <th>BBB</th>\n",
       "      <th>CCC</th>\n",
       "    </tr>\n",
       "  </thead>\n",
       "  <tbody>\n",
       "    <tr>\n",
       "      <th>alpha</th>\n",
       "      <td>1</td>\n",
       "      <td>0</td>\n",
       "    </tr>\n",
       "    <tr>\n",
       "      <th>gama</th>\n",
       "      <td>7</td>\n",
       "      <td>0</td>\n",
       "    </tr>\n",
       "    <tr>\n",
       "      <th>zeta</th>\n",
       "      <td>16</td>\n",
       "      <td>0</td>\n",
       "    </tr>\n",
       "  </tbody>\n",
       "</table>\n",
       "</div>"
      ],
      "text/plain": [
       "       BBB  CCC\n",
       "alpha    1    0\n",
       "gama     7    0\n",
       "zeta    16    0"
      ]
     },
     "execution_count": 58,
     "metadata": {},
     "output_type": "execute_result"
    }
   ],
   "source": [
    "df2.iloc[:, 1] = 0\n",
    "df2"
   ]
  },
  {
   "cell_type": "code",
   "execution_count": null,
   "id": "641074e3",
   "metadata": {},
   "outputs": [],
   "source": []
  }
 ],
 "metadata": {
  "kernelspec": {
   "display_name": "Python 3 (ipykernel)",
   "language": "python",
   "name": "python3"
  },
  "language_info": {
   "codemirror_mode": {
    "name": "ipython",
    "version": 3
   },
   "file_extension": ".py",
   "mimetype": "text/x-python",
   "name": "python",
   "nbconvert_exporter": "python",
   "pygments_lexer": "ipython3",
   "version": "3.9.12"
  }
 },
 "nbformat": 4,
 "nbformat_minor": 5
}
